{
 "cells": [
  {
   "cell_type": "code",
   "execution_count": 1,
   "metadata": {},
   "outputs": [
    {
     "name": "stderr",
     "output_type": "stream",
     "text": [
      "Using TensorFlow backend.\n"
     ]
    }
   ],
   "source": [
    "import pandas as pd\n",
    "from sklearn.model_selection import train_test_split\n",
    "from keras.models import Sequential\n",
    "from keras.layers import Dense\n",
    "from keras.utils import np_utils"
   ]
  },
  {
   "cell_type": "code",
   "execution_count": 2,
   "metadata": {},
   "outputs": [],
   "source": [
    "df = pd.read_csv(\"../FIFA 2006-2018 - Cleaned.csv\")"
   ]
  },
  {
   "cell_type": "code",
   "execution_count": 3,
   "metadata": {},
   "outputs": [
    {
     "data": {
      "text/html": [
       "<div>\n",
       "<style scoped>\n",
       "    .dataframe tbody tr th:only-of-type {\n",
       "        vertical-align: middle;\n",
       "    }\n",
       "\n",
       "    .dataframe tbody tr th {\n",
       "        vertical-align: top;\n",
       "    }\n",
       "\n",
       "    .dataframe thead th {\n",
       "        text-align: right;\n",
       "    }\n",
       "</style>\n",
       "<table border=\"1\" class=\"dataframe\">\n",
       "  <thead>\n",
       "    <tr style=\"text-align: right;\">\n",
       "      <th></th>\n",
       "      <th>Team1</th>\n",
       "      <th>Team2</th>\n",
       "      <th>Rounds</th>\n",
       "      <th>Stadium</th>\n",
       "      <th>City</th>\n",
       "      <th>Day</th>\n",
       "      <th>Month</th>\n",
       "      <th>Year</th>\n",
       "      <th>Score1</th>\n",
       "      <th>Score2</th>\n",
       "      <th>Remarks</th>\n",
       "    </tr>\n",
       "  </thead>\n",
       "  <tbody>\n",
       "    <tr>\n",
       "      <th>0</th>\n",
       "      <td>Russia</td>\n",
       "      <td>Saudi Arabia</td>\n",
       "      <td>Group Phase</td>\n",
       "      <td>Luzhniki Stadium</td>\n",
       "      <td>Moscow</td>\n",
       "      <td>14</td>\n",
       "      <td>6</td>\n",
       "      <td>2018</td>\n",
       "      <td>5</td>\n",
       "      <td>0</td>\n",
       "      <td>NaN</td>\n",
       "    </tr>\n",
       "    <tr>\n",
       "      <th>1</th>\n",
       "      <td>Egypt</td>\n",
       "      <td>Uruguay</td>\n",
       "      <td>Group Phase</td>\n",
       "      <td>Ekaterinburg Arena</td>\n",
       "      <td>Ekaterinburg</td>\n",
       "      <td>15</td>\n",
       "      <td>6</td>\n",
       "      <td>2018</td>\n",
       "      <td>0</td>\n",
       "      <td>1</td>\n",
       "      <td>NaN</td>\n",
       "    </tr>\n",
       "    <tr>\n",
       "      <th>2</th>\n",
       "      <td>Morocco</td>\n",
       "      <td>IR Iran</td>\n",
       "      <td>Group Phase</td>\n",
       "      <td>Saint Petersburg Stadium</td>\n",
       "      <td>St. Petersburg</td>\n",
       "      <td>15</td>\n",
       "      <td>6</td>\n",
       "      <td>2018</td>\n",
       "      <td>0</td>\n",
       "      <td>1</td>\n",
       "      <td>NaN</td>\n",
       "    </tr>\n",
       "    <tr>\n",
       "      <th>3</th>\n",
       "      <td>Portugal</td>\n",
       "      <td>Spain</td>\n",
       "      <td>Group Phase</td>\n",
       "      <td>Fisht Stadium</td>\n",
       "      <td>Sochi</td>\n",
       "      <td>15</td>\n",
       "      <td>6</td>\n",
       "      <td>2018</td>\n",
       "      <td>3</td>\n",
       "      <td>3</td>\n",
       "      <td>{WinTeamName} win on aggregate after regular t...</td>\n",
       "    </tr>\n",
       "    <tr>\n",
       "      <th>4</th>\n",
       "      <td>France</td>\n",
       "      <td>Australia</td>\n",
       "      <td>Group Phase</td>\n",
       "      <td>Kazan Arena</td>\n",
       "      <td>Kazan</td>\n",
       "      <td>16</td>\n",
       "      <td>6</td>\n",
       "      <td>2018</td>\n",
       "      <td>2</td>\n",
       "      <td>1</td>\n",
       "      <td>NaN</td>\n",
       "    </tr>\n",
       "  </tbody>\n",
       "</table>\n",
       "</div>"
      ],
      "text/plain": [
       "      Team1         Team2       Rounds                   Stadium  \\\n",
       "0    Russia  Saudi Arabia  Group Phase          Luzhniki Stadium   \n",
       "1     Egypt       Uruguay  Group Phase        Ekaterinburg Arena   \n",
       "2   Morocco       IR Iran  Group Phase  Saint Petersburg Stadium   \n",
       "3  Portugal         Spain  Group Phase             Fisht Stadium   \n",
       "4    France     Australia  Group Phase               Kazan Arena   \n",
       "\n",
       "             City  Day  Month  Year  Score1  Score2  \\\n",
       "0          Moscow   14      6  2018       5       0   \n",
       "1    Ekaterinburg   15      6  2018       0       1   \n",
       "2  St. Petersburg   15      6  2018       0       1   \n",
       "3           Sochi   15      6  2018       3       3   \n",
       "4           Kazan   16      6  2018       2       1   \n",
       "\n",
       "                                             Remarks  \n",
       "0                                                NaN  \n",
       "1                                                NaN  \n",
       "2                                                NaN  \n",
       "3  {WinTeamName} win on aggregate after regular t...  \n",
       "4                                                NaN  "
      ]
     },
     "execution_count": 3,
     "metadata": {},
     "output_type": "execute_result"
    }
   ],
   "source": [
    "df.head()"
   ]
  },
  {
   "cell_type": "code",
   "execution_count": 4,
   "metadata": {},
   "outputs": [],
   "source": [
    "df = df.drop([\"Remarks\",\"Stadium\",\"City\"],axis=1)\n",
    "countries = list(set(df[\"Team1\"]).union(set(df[\"Team2\"])))\n",
    "countries_dict = {}\n",
    "for i in range(len(countries)):\n",
    "    countries_dict[countries[i]] = i\n",
    "    \n",
    "Team1_encoded = []\n",
    "Team2_encoded = []\n",
    "\n",
    "for i in range(len(df)):\n",
    "    Team1_encoded.append(countries_dict[list(df.Team1)[i]])\n",
    "    Team2_encoded.append(countries_dict[list(df.Team2)[i]])\n",
    "df[\"Team1\"] = Team1_encoded\n",
    "df[\"Team2\"] = Team2_encoded"
   ]
  },
  {
   "cell_type": "code",
   "execution_count": 5,
   "metadata": {},
   "outputs": [
    {
     "data": {
      "text/html": [
       "<div>\n",
       "<style scoped>\n",
       "    .dataframe tbody tr th:only-of-type {\n",
       "        vertical-align: middle;\n",
       "    }\n",
       "\n",
       "    .dataframe tbody tr th {\n",
       "        vertical-align: top;\n",
       "    }\n",
       "\n",
       "    .dataframe thead th {\n",
       "        text-align: right;\n",
       "    }\n",
       "</style>\n",
       "<table border=\"1\" class=\"dataframe\">\n",
       "  <thead>\n",
       "    <tr style=\"text-align: right;\">\n",
       "      <th></th>\n",
       "      <th>Team1</th>\n",
       "      <th>Team2</th>\n",
       "      <th>Rounds</th>\n",
       "      <th>Day</th>\n",
       "      <th>Month</th>\n",
       "      <th>Year</th>\n",
       "      <th>Score1</th>\n",
       "      <th>Score2</th>\n",
       "    </tr>\n",
       "  </thead>\n",
       "  <tbody>\n",
       "    <tr>\n",
       "      <th>0</th>\n",
       "      <td>30</td>\n",
       "      <td>10</td>\n",
       "      <td>Group Phase</td>\n",
       "      <td>14</td>\n",
       "      <td>6</td>\n",
       "      <td>2018</td>\n",
       "      <td>5</td>\n",
       "      <td>0</td>\n",
       "    </tr>\n",
       "    <tr>\n",
       "      <th>1</th>\n",
       "      <td>44</td>\n",
       "      <td>48</td>\n",
       "      <td>Group Phase</td>\n",
       "      <td>15</td>\n",
       "      <td>6</td>\n",
       "      <td>2018</td>\n",
       "      <td>0</td>\n",
       "      <td>1</td>\n",
       "    </tr>\n",
       "    <tr>\n",
       "      <th>2</th>\n",
       "      <td>34</td>\n",
       "      <td>21</td>\n",
       "      <td>Group Phase</td>\n",
       "      <td>15</td>\n",
       "      <td>6</td>\n",
       "      <td>2018</td>\n",
       "      <td>0</td>\n",
       "      <td>1</td>\n",
       "    </tr>\n",
       "    <tr>\n",
       "      <th>3</th>\n",
       "      <td>14</td>\n",
       "      <td>11</td>\n",
       "      <td>Group Phase</td>\n",
       "      <td>15</td>\n",
       "      <td>6</td>\n",
       "      <td>2018</td>\n",
       "      <td>3</td>\n",
       "      <td>3</td>\n",
       "    </tr>\n",
       "    <tr>\n",
       "      <th>4</th>\n",
       "      <td>28</td>\n",
       "      <td>17</td>\n",
       "      <td>Group Phase</td>\n",
       "      <td>16</td>\n",
       "      <td>6</td>\n",
       "      <td>2018</td>\n",
       "      <td>2</td>\n",
       "      <td>1</td>\n",
       "    </tr>\n",
       "  </tbody>\n",
       "</table>\n",
       "</div>"
      ],
      "text/plain": [
       "   Team1  Team2       Rounds  Day  Month  Year  Score1  Score2\n",
       "0     30     10  Group Phase   14      6  2018       5       0\n",
       "1     44     48  Group Phase   15      6  2018       0       1\n",
       "2     34     21  Group Phase   15      6  2018       0       1\n",
       "3     14     11  Group Phase   15      6  2018       3       3\n",
       "4     28     17  Group Phase   16      6  2018       2       1"
      ]
     },
     "execution_count": 5,
     "metadata": {},
     "output_type": "execute_result"
    }
   ],
   "source": [
    "df.head()"
   ]
  },
  {
   "cell_type": "code",
   "execution_count": 6,
   "metadata": {},
   "outputs": [],
   "source": [
    "rounds = df.Rounds\n",
    "rounds.unique()\n",
    "rounds_dict = {\"Group Phase\":1, \"Round of 16\":2, \"Quarter Finals\":3, \"Semi Finals\":4, \"Play-off for third place\":5, \"Finals\":6}\n",
    "\n",
    "rounds_encoded = []\n",
    "\n",
    "for i in range(len(df)):\n",
    "    rounds_encoded.append(rounds_dict[list(df.Rounds)[i]])\n",
    "df[\"Rounds\"] = rounds_encoded\n",
    "\n",
    "winning_team = []\n",
    "\n",
    "for i in range(len(df)):\n",
    "    if df.Score1[i]>df.Score2[i]:\n",
    "        winning_team.append(1)\n",
    "    elif df.Score1[i]<df.Score2[i]:\n",
    "        winning_team.append(2)\n",
    "    else:\n",
    "        winning_team.append(0)\n",
    "        \n",
    "df['winning_team'] = winning_team"
   ]
  },
  {
   "cell_type": "code",
   "execution_count": 7,
   "metadata": {},
   "outputs": [
    {
     "data": {
      "text/plain": [
       "array([[  30,   10,    1,   14,    6, 2018,    5,    0,    1],\n",
       "       [  44,   48,    1,   15,    6, 2018,    0,    1,    2],\n",
       "       [  34,   21,    1,   15,    6, 2018,    0,    1,    2],\n",
       "       [  14,   11,    1,   15,    6, 2018,    3,    3,    0],\n",
       "       [  28,   17,    1,   16,    6, 2018,    2,    1,    1],\n",
       "       [  52,   33,    1,   16,    6, 2018,    1,    1,    0],\n",
       "       [  41,    2,    1,   16,    6, 2018,    0,    1,    2],\n",
       "       [  25,   15,    1,   16,    6, 2018,    2,    0,    1],\n",
       "       [  13,    3,    1,   17,    6, 2018,    0,    1,    2],\n",
       "       [  46,    1,    1,   17,    6, 2018,    0,    1,    2]])"
      ]
     },
     "execution_count": 7,
     "metadata": {},
     "output_type": "execute_result"
    }
   ],
   "source": [
    "df.values[0:10]"
   ]
  },
  {
   "cell_type": "code",
   "execution_count": 8,
   "metadata": {},
   "outputs": [
    {
     "data": {
      "text/plain": [
       "256"
      ]
     },
     "execution_count": 8,
     "metadata": {},
     "output_type": "execute_result"
    }
   ],
   "source": [
    "len(df)"
   ]
  },
  {
   "cell_type": "code",
   "execution_count": 9,
   "metadata": {},
   "outputs": [
    {
     "name": "stderr",
     "output_type": "stream",
     "text": [
      "/home/milad/anaconda3/lib/python3.6/site-packages/ipykernel_launcher.py:2: FutureWarning: set_value is deprecated and will be removed in a future release. Please use .at[] or .iat[] accessors instead\n",
      "  \n"
     ]
    },
    {
     "data": {
      "text/plain": [
       "(511, 9)"
      ]
     },
     "execution_count": 9,
     "metadata": {},
     "output_type": "execute_result"
    }
   ],
   "source": [
    "for index,row in df.iterrows():\n",
    "    df.set_value(index+255,[\"Team1\",\"Team2\",\"Rounds\",\"Day\",\"Month\",\"Year\",\"Score1\",\"Score2\",\"winning_team\"],[row[\"Team2\"],row[\"Team1\"],row[\"Rounds\"],row[\"Day\"],row[\"Month\"],row[\"Year\"],row[\"Score1\"],row[\"Score2\"],2 if row[\"winning_team\"]==1 else 1 if row[\"winning_team\"]==2 else 0])\n",
    "df.shape\n"
   ]
  },
  {
   "cell_type": "code",
   "execution_count": 10,
   "metadata": {},
   "outputs": [],
   "source": [
    "y=df['winning_team']\n",
    "df.drop(['winning_team'], axis=1)\n",
    "X=df"
   ]
  },
  {
   "cell_type": "code",
   "execution_count": 11,
   "metadata": {},
   "outputs": [],
   "source": [
    "X_train, X_test, y_train, y_test = train_test_split(X, y, test_size=0.1, random_state=42)"
   ]
  },
  {
   "cell_type": "code",
   "execution_count": 12,
   "metadata": {},
   "outputs": [
    {
     "name": "stdout",
     "output_type": "stream",
     "text": [
      "Train on 459 samples, validate on 52 samples\n",
      "Epoch 1/100\n",
      "459/459 [==============================] - 2s 3ms/step - loss: 0.0995 - acc: 0.3943 - val_loss: 0.0308 - val_acc: 0.3654\n",
      "Epoch 2/100\n",
      "459/459 [==============================] - 0s 45us/step - loss: 0.0755 - acc: 0.3943 - val_loss: 0.0052 - val_acc: 0.3654\n",
      "Epoch 3/100\n",
      "459/459 [==============================] - 0s 60us/step - loss: 0.0521 - acc: 0.3943 - val_loss: -0.0204 - val_acc: 0.3654\n",
      "Epoch 4/100\n",
      "459/459 [==============================] - 0s 70us/step - loss: 0.0288 - acc: 0.3943 - val_loss: -0.0466 - val_acc: 0.3654\n",
      "Epoch 5/100\n",
      "459/459 [==============================] - 0s 76us/step - loss: 0.0058 - acc: 0.3943 - val_loss: -0.0718 - val_acc: 0.3654\n",
      "Epoch 6/100\n",
      "459/459 [==============================] - 0s 75us/step - loss: -0.0158 - acc: 0.3943 - val_loss: -0.0968 - val_acc: 0.3654\n",
      "Epoch 7/100\n",
      "459/459 [==============================] - 0s 74us/step - loss: -0.0385 - acc: 0.3943 - val_loss: -0.1190 - val_acc: 0.3654\n",
      "Epoch 8/100\n",
      "459/459 [==============================] - 0s 67us/step - loss: -0.0575 - acc: 0.3943 - val_loss: -0.1423 - val_acc: 0.3654\n",
      "Epoch 9/100\n",
      "459/459 [==============================] - 0s 58us/step - loss: -0.0783 - acc: 0.3943 - val_loss: -0.1655 - val_acc: 0.3654\n",
      "Epoch 10/100\n",
      "459/459 [==============================] - 0s 53us/step - loss: -0.0974 - acc: 0.3943 - val_loss: -0.1873 - val_acc: 0.3654\n",
      "Epoch 11/100\n",
      "459/459 [==============================] - 0s 53us/step - loss: -0.1163 - acc: 0.3943 - val_loss: -0.2078 - val_acc: 0.3654\n",
      "Epoch 12/100\n",
      "459/459 [==============================] - 0s 62us/step - loss: -0.1345 - acc: 0.3943 - val_loss: -0.2279 - val_acc: 0.3654\n",
      "Epoch 13/100\n",
      "459/459 [==============================] - 0s 70us/step - loss: -0.1518 - acc: 0.3943 - val_loss: -0.2477 - val_acc: 0.3654\n",
      "Epoch 14/100\n",
      "459/459 [==============================] - 0s 59us/step - loss: -0.1687 - acc: 0.3943 - val_loss: -0.2673 - val_acc: 0.3654\n",
      "Epoch 15/100\n",
      "459/459 [==============================] - 0s 72us/step - loss: -0.1859 - acc: 0.3943 - val_loss: -0.2862 - val_acc: 0.3654\n",
      "Epoch 16/100\n",
      "459/459 [==============================] - 0s 67us/step - loss: -0.2017 - acc: 0.3943 - val_loss: -0.3048 - val_acc: 0.3654\n",
      "Epoch 17/100\n",
      "459/459 [==============================] - 0s 65us/step - loss: -0.2181 - acc: 0.3943 - val_loss: -0.3228 - val_acc: 0.3654\n",
      "Epoch 18/100\n",
      "459/459 [==============================] - 0s 76us/step - loss: -0.2331 - acc: 0.3943 - val_loss: -0.3413 - val_acc: 0.3654\n",
      "Epoch 19/100\n",
      "459/459 [==============================] - 0s 66us/step - loss: -0.2490 - acc: 0.3943 - val_loss: -0.3593 - val_acc: 0.3654\n",
      "Epoch 20/100\n",
      "459/459 [==============================] - 0s 69us/step - loss: -0.2638 - acc: 0.3943 - val_loss: -0.3777 - val_acc: 0.3654\n",
      "Epoch 21/100\n",
      "459/459 [==============================] - 0s 72us/step - loss: -0.2807 - acc: 0.3943 - val_loss: -0.3948 - val_acc: 0.3654\n",
      "Epoch 22/100\n",
      "459/459 [==============================] - 0s 74us/step - loss: -0.2936 - acc: 0.3943 - val_loss: -0.4123 - val_acc: 0.3654\n",
      "Epoch 23/100\n",
      "459/459 [==============================] - 0s 56us/step - loss: -0.3078 - acc: 0.3943 - val_loss: -0.4268 - val_acc: 0.3654\n",
      "Epoch 24/100\n",
      "459/459 [==============================] - 0s 78us/step - loss: -0.3208 - acc: 0.3943 - val_loss: -0.4415 - val_acc: 0.3654\n",
      "Epoch 25/100\n",
      "459/459 [==============================] - 0s 62us/step - loss: -0.3329 - acc: 0.3943 - val_loss: -0.4572 - val_acc: 0.3654\n",
      "Epoch 26/100\n",
      "459/459 [==============================] - 0s 80us/step - loss: -0.3460 - acc: 0.3943 - val_loss: -0.4724 - val_acc: 0.3654\n",
      "Epoch 27/100\n",
      "459/459 [==============================] - 0s 93us/step - loss: -0.3581 - acc: 0.3943 - val_loss: -0.4868 - val_acc: 0.3654\n",
      "Epoch 28/100\n",
      "459/459 [==============================] - 0s 68us/step - loss: -0.3699 - acc: 0.3943 - val_loss: -0.5015 - val_acc: 0.3654\n",
      "Epoch 29/100\n",
      "459/459 [==============================] - 0s 54us/step - loss: -0.3828 - acc: 0.3943 - val_loss: -0.5162 - val_acc: 0.3654\n",
      "Epoch 30/100\n",
      "459/459 [==============================] - 0s 55us/step - loss: -0.3950 - acc: 0.3943 - val_loss: -0.5313 - val_acc: 0.3654\n",
      "Epoch 31/100\n",
      "459/459 [==============================] - 0s 86us/step - loss: -0.4073 - acc: 0.3943 - val_loss: -0.5460 - val_acc: 0.3654\n",
      "Epoch 32/100\n",
      "459/459 [==============================] - 0s 59us/step - loss: -0.4204 - acc: 0.3943 - val_loss: -0.5600 - val_acc: 0.3654\n",
      "Epoch 33/100\n",
      "459/459 [==============================] - 0s 65us/step - loss: -0.4327 - acc: 0.3943 - val_loss: -0.5755 - val_acc: 0.3654\n",
      "Epoch 34/100\n",
      "459/459 [==============================] - 0s 72us/step - loss: -0.4447 - acc: 0.3943 - val_loss: -0.5915 - val_acc: 0.3654\n",
      "Epoch 35/100\n",
      "459/459 [==============================] - 0s 69us/step - loss: -0.4561 - acc: 0.3943 - val_loss: -0.6050 - val_acc: 0.3654\n",
      "Epoch 36/100\n",
      "459/459 [==============================] - 0s 77us/step - loss: -0.4674 - acc: 0.3943 - val_loss: -0.6159 - val_acc: 0.3654\n",
      "Epoch 37/100\n",
      "459/459 [==============================] - 0s 60us/step - loss: -0.4757 - acc: 0.3943 - val_loss: -0.6297 - val_acc: 0.3654\n",
      "Epoch 38/100\n",
      "459/459 [==============================] - 0s 55us/step - loss: -0.4872 - acc: 0.3943 - val_loss: -0.6414 - val_acc: 0.3654\n",
      "Epoch 39/100\n",
      "459/459 [==============================] - 0s 65us/step - loss: -0.4968 - acc: 0.3943 - val_loss: -0.6542 - val_acc: 0.3654\n",
      "Epoch 40/100\n",
      "459/459 [==============================] - 0s 62us/step - loss: -0.5073 - acc: 0.3943 - val_loss: -0.6662 - val_acc: 0.3654\n",
      "Epoch 41/100\n",
      "459/459 [==============================] - 0s 84us/step - loss: -0.5179 - acc: 0.3943 - val_loss: -0.6784 - val_acc: 0.3654\n",
      "Epoch 42/100\n",
      "459/459 [==============================] - 0s 77us/step - loss: -0.5279 - acc: 0.3943 - val_loss: -0.6915 - val_acc: 0.3654\n",
      "Epoch 43/100\n",
      "459/459 [==============================] - 0s 73us/step - loss: -0.5388 - acc: 0.3943 - val_loss: -0.7051 - val_acc: 0.3654\n",
      "Epoch 44/100\n",
      "459/459 [==============================] - 0s 83us/step - loss: -0.5496 - acc: 0.3943 - val_loss: -0.7183 - val_acc: 0.3654\n",
      "Epoch 45/100\n",
      "459/459 [==============================] - 0s 70us/step - loss: -0.5606 - acc: 0.3943 - val_loss: -0.7308 - val_acc: 0.3654\n",
      "Epoch 46/100\n",
      "459/459 [==============================] - 0s 83us/step - loss: -0.5703 - acc: 0.3943 - val_loss: -0.7436 - val_acc: 0.3654\n",
      "Epoch 47/100\n",
      "459/459 [==============================] - 0s 71us/step - loss: -0.5807 - acc: 0.3943 - val_loss: -0.7568 - val_acc: 0.3654\n",
      "Epoch 48/100\n",
      "459/459 [==============================] - 0s 71us/step - loss: -0.5903 - acc: 0.3943 - val_loss: -0.7688 - val_acc: 0.3654\n",
      "Epoch 49/100\n",
      "459/459 [==============================] - 0s 77us/step - loss: -0.5997 - acc: 0.3943 - val_loss: -0.7799 - val_acc: 0.3654\n",
      "Epoch 50/100\n",
      "459/459 [==============================] - 0s 82us/step - loss: -0.6094 - acc: 0.3943 - val_loss: -0.7917 - val_acc: 0.3654\n",
      "Epoch 51/100\n",
      "459/459 [==============================] - 0s 79us/step - loss: -0.6190 - acc: 0.3943 - val_loss: -0.8038 - val_acc: 0.3654\n",
      "Epoch 52/100\n",
      "459/459 [==============================] - 0s 67us/step - loss: -0.6284 - acc: 0.3943 - val_loss: -0.8151 - val_acc: 0.3654\n",
      "Epoch 53/100\n",
      "459/459 [==============================] - 0s 87us/step - loss: -0.6370 - acc: 0.3943 - val_loss: -0.8285 - val_acc: 0.3654\n",
      "Epoch 54/100\n",
      "459/459 [==============================] - 0s 88us/step - loss: -0.6491 - acc: 0.3943 - val_loss: -0.8418 - val_acc: 0.3654\n",
      "Epoch 55/100\n",
      "459/459 [==============================] - 0s 63us/step - loss: -0.6596 - acc: 0.3943 - val_loss: -0.8543 - val_acc: 0.3654\n",
      "Epoch 56/100\n",
      "459/459 [==============================] - 0s 66us/step - loss: -0.6692 - acc: 0.3943 - val_loss: -0.8677 - val_acc: 0.3654\n",
      "Epoch 57/100\n",
      "459/459 [==============================] - 0s 58us/step - loss: -0.6800 - acc: 0.3943 - val_loss: -0.8804 - val_acc: 0.3654\n",
      "Epoch 58/100\n",
      "459/459 [==============================] - 0s 69us/step - loss: -0.6894 - acc: 0.3943 - val_loss: -0.8915 - val_acc: 0.3654\n",
      "Epoch 59/100\n",
      "459/459 [==============================] - 0s 82us/step - loss: -0.6990 - acc: 0.3943 - val_loss: -0.9039 - val_acc: 0.3654\n",
      "Epoch 60/100\n"
     ]
    },
    {
     "name": "stdout",
     "output_type": "stream",
     "text": [
      "459/459 [==============================] - 0s 48us/step - loss: -0.7094 - acc: 0.3943 - val_loss: -0.9170 - val_acc: 0.3654\n",
      "Epoch 61/100\n",
      "459/459 [==============================] - 0s 62us/step - loss: -0.7193 - acc: 0.3943 - val_loss: -0.9306 - val_acc: 0.3654\n",
      "Epoch 62/100\n",
      "459/459 [==============================] - 0s 77us/step - loss: -0.7303 - acc: 0.3943 - val_loss: -0.9442 - val_acc: 0.3654\n",
      "Epoch 63/100\n",
      "459/459 [==============================] - 0s 85us/step - loss: -0.7409 - acc: 0.3943 - val_loss: -0.9567 - val_acc: 0.3654\n",
      "Epoch 64/100\n",
      "459/459 [==============================] - 0s 61us/step - loss: -0.7506 - acc: 0.3943 - val_loss: -0.9685 - val_acc: 0.3654\n",
      "Epoch 65/100\n",
      "459/459 [==============================] - 0s 56us/step - loss: -0.7589 - acc: 0.3943 - val_loss: -0.9797 - val_acc: 0.3654\n",
      "Epoch 66/100\n",
      "459/459 [==============================] - 0s 59us/step - loss: -0.7682 - acc: 0.3943 - val_loss: -0.9907 - val_acc: 0.3654\n",
      "Epoch 67/100\n",
      "459/459 [==============================] - 0s 48us/step - loss: -0.7763 - acc: 0.3943 - val_loss: -1.0012 - val_acc: 0.3654\n",
      "Epoch 68/100\n",
      "459/459 [==============================] - 0s 60us/step - loss: -0.7845 - acc: 0.3943 - val_loss: -1.0114 - val_acc: 0.3654\n",
      "Epoch 69/100\n",
      "459/459 [==============================] - 0s 48us/step - loss: -0.7929 - acc: 0.3943 - val_loss: -1.0220 - val_acc: 0.3654\n",
      "Epoch 70/100\n",
      "459/459 [==============================] - 0s 57us/step - loss: -0.8014 - acc: 0.3943 - val_loss: -1.0335 - val_acc: 0.3654\n",
      "Epoch 71/100\n",
      "459/459 [==============================] - 0s 59us/step - loss: -0.8107 - acc: 0.3943 - val_loss: -1.0443 - val_acc: 0.3654\n",
      "Epoch 72/100\n",
      "459/459 [==============================] - 0s 57us/step - loss: -0.8191 - acc: 0.3943 - val_loss: -1.0541 - val_acc: 0.3654\n",
      "Epoch 73/100\n",
      "459/459 [==============================] - 0s 63us/step - loss: -0.8267 - acc: 0.3943 - val_loss: -1.0654 - val_acc: 0.3654\n",
      "Epoch 74/100\n",
      "459/459 [==============================] - 0s 55us/step - loss: -0.8360 - acc: 0.3943 - val_loss: -1.0761 - val_acc: 0.3654\n",
      "Epoch 75/100\n",
      "459/459 [==============================] - 0s 52us/step - loss: -0.8456 - acc: 0.3943 - val_loss: -1.0885 - val_acc: 0.3654\n",
      "Epoch 76/100\n",
      "459/459 [==============================] - 0s 52us/step - loss: -0.8547 - acc: 0.3943 - val_loss: -1.1007 - val_acc: 0.3654\n",
      "Epoch 77/100\n",
      "459/459 [==============================] - 0s 54us/step - loss: -0.8647 - acc: 0.3943 - val_loss: -1.1135 - val_acc: 0.3654\n",
      "Epoch 78/100\n",
      "459/459 [==============================] - 0s 50us/step - loss: -0.8745 - acc: 0.3943 - val_loss: -1.1265 - val_acc: 0.3654\n",
      "Epoch 79/100\n",
      "459/459 [==============================] - 0s 54us/step - loss: -0.8844 - acc: 0.3943 - val_loss: -1.1382 - val_acc: 0.3654\n",
      "Epoch 80/100\n",
      "459/459 [==============================] - 0s 64us/step - loss: -0.8926 - acc: 0.3943 - val_loss: -1.1502 - val_acc: 0.3654\n",
      "Epoch 81/100\n",
      "459/459 [==============================] - 0s 53us/step - loss: -0.9026 - acc: 0.3943 - val_loss: -1.1602 - val_acc: 0.3654\n",
      "Epoch 82/100\n",
      "459/459 [==============================] - 0s 55us/step - loss: -0.9111 - acc: 0.3943 - val_loss: -1.1717 - val_acc: 0.3654\n",
      "Epoch 83/100\n",
      "459/459 [==============================] - 0s 47us/step - loss: -0.9203 - acc: 0.3943 - val_loss: -1.1844 - val_acc: 0.3654\n",
      "Epoch 84/100\n",
      "459/459 [==============================] - 0s 50us/step - loss: -0.9292 - acc: 0.3943 - val_loss: -1.1966 - val_acc: 0.3654\n",
      "Epoch 85/100\n",
      "459/459 [==============================] - 0s 54us/step - loss: -0.9389 - acc: 0.3943 - val_loss: -1.2091 - val_acc: 0.3654\n",
      "Epoch 86/100\n",
      "459/459 [==============================] - 0s 54us/step - loss: -0.9487 - acc: 0.3943 - val_loss: -1.2191 - val_acc: 0.3654\n",
      "Epoch 87/100\n",
      "459/459 [==============================] - 0s 55us/step - loss: -0.9565 - acc: 0.3943 - val_loss: -1.2297 - val_acc: 0.3654\n",
      "Epoch 88/100\n",
      "459/459 [==============================] - 0s 53us/step - loss: -0.9661 - acc: 0.3943 - val_loss: -1.2404 - val_acc: 0.3654\n",
      "Epoch 89/100\n",
      "459/459 [==============================] - 0s 52us/step - loss: -0.9741 - acc: 0.3943 - val_loss: -1.2528 - val_acc: 0.3654\n",
      "Epoch 90/100\n",
      "459/459 [==============================] - 0s 61us/step - loss: -0.9839 - acc: 0.3943 - val_loss: -1.2632 - val_acc: 0.3654\n",
      "Epoch 91/100\n",
      "459/459 [==============================] - 0s 62us/step - loss: -0.9914 - acc: 0.3943 - val_loss: -1.2751 - val_acc: 0.3654\n",
      "Epoch 92/100\n",
      "459/459 [==============================] - 0s 48us/step - loss: -1.0015 - acc: 0.3943 - val_loss: -1.2865 - val_acc: 0.3654\n",
      "Epoch 93/100\n",
      "459/459 [==============================] - 0s 59us/step - loss: -1.0100 - acc: 0.3943 - val_loss: -1.2963 - val_acc: 0.3654\n",
      "Epoch 94/100\n",
      "459/459 [==============================] - 0s 61us/step - loss: -1.0180 - acc: 0.3943 - val_loss: -1.3072 - val_acc: 0.3654\n",
      "Epoch 95/100\n",
      "459/459 [==============================] - 0s 67us/step - loss: -1.0264 - acc: 0.3943 - val_loss: -1.3186 - val_acc: 0.3654\n",
      "Epoch 96/100\n",
      "459/459 [==============================] - 0s 57us/step - loss: -1.0357 - acc: 0.3943 - val_loss: -1.3301 - val_acc: 0.3654\n",
      "Epoch 97/100\n",
      "459/459 [==============================] - 0s 58us/step - loss: -1.0444 - acc: 0.3943 - val_loss: -1.3415 - val_acc: 0.3654\n",
      "Epoch 98/100\n",
      "459/459 [==============================] - 0s 62us/step - loss: -1.0529 - acc: 0.3943 - val_loss: -1.3542 - val_acc: 0.3654\n",
      "Epoch 99/100\n",
      "459/459 [==============================] - 0s 57us/step - loss: -1.0633 - acc: 0.3943 - val_loss: -1.3651 - val_acc: 0.3654\n",
      "Epoch 100/100\n",
      "459/459 [==============================] - 0s 61us/step - loss: -1.0714 - acc: 0.3943 - val_loss: -1.3767 - val_acc: 0.3654\n"
     ]
    },
    {
     "data": {
      "text/plain": [
       "<keras.callbacks.History at 0x7fa6f2efa3c8>"
      ]
     },
     "execution_count": 12,
     "metadata": {},
     "output_type": "execute_result"
    }
   ],
   "source": [
    "model = Sequential()\n",
    "model.add(Dense(12, input_dim=X.shape[1], activation='sigmoid'))\n",
    "model.add(Dense(8, activation='sigmoid'))\n",
    "#model.dropout()\n",
    "model.add(Dense(1, activation='sigmoid'))\n",
    "\n",
    "model.compile(loss='binary_crossentropy', optimizer='adam', metrics=['accuracy']) #categorical crossentropy?\n",
    "model.fit(X_train, y_train, validation_data=(X_test,y_test), shuffle=True, epochs=100, batch_size=64)\n"
   ]
  },
  {
   "cell_type": "code",
   "execution_count": 13,
   "metadata": {},
   "outputs": [
    {
     "name": "stdout",
     "output_type": "stream",
     "text": [
      "52/52 [==============================] - 0s 153us/step\n",
      "\n",
      "acc: 36.54%\n"
     ]
    }
   ],
   "source": [
    "scores = model.evaluate(X_test, y_test)\n",
    "print(\"\\n%s: %.2f%%\" % (model.metrics_names[1], scores[1]*100))"
   ]
  },
  {
   "cell_type": "code",
   "execution_count": 14,
   "metadata": {},
   "outputs": [
    {
     "data": {
      "text/plain": [
       "1.0"
      ]
     },
     "execution_count": 14,
     "metadata": {},
     "output_type": "execute_result"
    }
   ],
   "source": [
    "from sklearn.tree import DecisionTreeClassifier\n",
    "from sklearn.metrics import accuracy_score\n",
    "\n",
    "model= DecisionTreeClassifier()\n",
    "model.fit(X_train,y_train)\n",
    "\n",
    "y_pred = model.predict(X_test)\n",
    "\n",
    "accuracy_score(y_test, y_pred)"
   ]
  }
 ],
 "metadata": {
  "kernelspec": {
   "display_name": "Python 3",
   "language": "python",
   "name": "python3"
  },
  "language_info": {
   "codemirror_mode": {
    "name": "ipython",
    "version": 3
   },
   "file_extension": ".py",
   "mimetype": "text/x-python",
   "name": "python",
   "nbconvert_exporter": "python",
   "pygments_lexer": "ipython3",
   "version": "3.6.4"
  }
 },
 "nbformat": 4,
 "nbformat_minor": 2
}
