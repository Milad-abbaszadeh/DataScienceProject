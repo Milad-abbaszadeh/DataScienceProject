{
 "cells": [
  {
   "cell_type": "code",
   "execution_count": 1,
   "metadata": {},
   "outputs": [
    {
     "name": "stderr",
     "output_type": "stream",
     "text": [
      "Using TensorFlow backend.\n"
     ]
    }
   ],
   "source": [
    "import pandas as pd\n",
    "import numpy as np\n",
    "from sklearn.model_selection import train_test_split\n",
    "from sklearn.metrics import accuracy_score\n",
    "from keras.models import Sequential\n",
    "from keras.layers import Dense"
   ]
  },
  {
   "cell_type": "code",
   "execution_count": 2,
   "metadata": {},
   "outputs": [],
   "source": [
    "df = pd.read_csv(\"../datasets/final_data/FIFA 1990-2018 - Cleaned.csv\")\n",
    "df_teams = pd.read_csv(\"../datasets/final_data/world_cup_comparisons.csv\")\n",
    "fifa_ranking = pd.read_csv(\"../datasets/final_data/fifa_ranking.csv\")"
   ]
  },
  {
   "cell_type": "code",
   "execution_count": 3,
   "metadata": {},
   "outputs": [],
   "source": [
    "df=df.replace({\"South Korea\":\"Korea Republic\"})\n",
    "df = df.replace({\"Iran\":\"IR Iran\"})\n",
    "df = df.replace({\"Soviet Union\":\"Russia\"})\n",
    "df = df.replace({\"Czechoslovakia\":\"Czech Republic\"})\n",
    "\n",
    "\n",
    "df_teams=df_teams.replace({\"South Korea\":\"Korea Republic\"})\n",
    "df_teams = df_teams.replace({\"Iran\":\"IR Iran\"})\n",
    "\n",
    "fifa_ranking=fifa_ranking.replace({\"South Korea\":\"Korea Republic\"})\n",
    "fifa_ranking = fifa_ranking.replace({\"Iran\":\"IR Iran\"})"
   ]
  },
  {
   "cell_type": "code",
   "execution_count": 4,
   "metadata": {},
   "outputs": [],
   "source": [
    "df = df[df.Year ==2018]\n"
   ]
  },
  {
   "cell_type": "code",
   "execution_count": 5,
   "metadata": {},
   "outputs": [],
   "source": [
    "#Asia=0 Europe=2 Africa =3 america =4\n",
    "\n",
    "continent={'Russia':'Europe', 'Germany':'Europe','Brazil':'South America','Portugal':'Europe','Argentina':'South America','Belgium':'Europe','Poland':'Europe','France':'Europe',\n",
    "            'Spain':'Europe','Peru':'South America','Switzerland':'Europe','England':'Europe','Colombia':'South America','Mexico':'North America','Uruguay':'South America','Croatia':'Europe',\n",
    "            'Denmark':'Europe','Iceland':'Europe','Costa Rica':'North America','Sweden':'Europe','Tunisia':'Africa','Egypt':'Asia','Senegal':'Africa','IR Iran':'Asia',\n",
    "            'Serbia':'Europe','Nigeria':'Africa','Australia':'Australia','Japan':'Asia','Morocco':'Africa','Panama':'North America','Korea Republic':'Asia','Saudi Arabia':'Asia'}"
   ]
  },
  {
   "cell_type": "code",
   "execution_count": 6,
   "metadata": {},
   "outputs": [
    {
     "name": "stderr",
     "output_type": "stream",
     "text": [
      "/home/milad/anaconda3/lib/python3.6/site-packages/ipykernel_launcher.py:9: SettingWithCopyWarning: \n",
      "A value is trying to be set on a copy of a slice from a DataFrame\n",
      "\n",
      "See the caveats in the documentation: http://pandas.pydata.org/pandas-docs/stable/indexing.html#indexing-view-versus-copy\n",
      "  if __name__ == '__main__':\n",
      "/home/milad/anaconda3/lib/python3.6/site-packages/ipykernel_launcher.py:10: SettingWithCopyWarning: \n",
      "A value is trying to be set on a copy of a slice from a DataFrame\n",
      "\n",
      "See the caveats in the documentation: http://pandas.pydata.org/pandas-docs/stable/indexing.html#indexing-view-versus-copy\n",
      "  # Remove the CWD from sys.path while we load stuff.\n",
      "/home/milad/anaconda3/lib/python3.6/site-packages/ipykernel_launcher.py:11: SettingWithCopyWarning: \n",
      "A value is trying to be set on a copy of a slice from a DataFrame\n",
      "\n",
      "See the caveats in the documentation: http://pandas.pydata.org/pandas-docs/stable/indexing.html#indexing-view-versus-copy\n",
      "  # This is added back by InteractiveShellApp.init_path()\n",
      "/home/milad/anaconda3/lib/python3.6/site-packages/ipykernel_launcher.py:12: SettingWithCopyWarning: \n",
      "A value is trying to be set on a copy of a slice from a DataFrame\n",
      "\n",
      "See the caveats in the documentation: http://pandas.pydata.org/pandas-docs/stable/indexing.html#indexing-view-versus-copy\n",
      "  if sys.path[0] == '':\n",
      "/home/milad/anaconda3/lib/python3.6/site-packages/ipykernel_launcher.py:13: SettingWithCopyWarning: \n",
      "A value is trying to be set on a copy of a slice from a DataFrame\n",
      "\n",
      "See the caveats in the documentation: http://pandas.pydata.org/pandas-docs/stable/indexing.html#indexing-view-versus-copy\n",
      "  del sys.path[0]\n",
      "/home/milad/anaconda3/lib/python3.6/site-packages/ipykernel_launcher.py:14: SettingWithCopyWarning: \n",
      "A value is trying to be set on a copy of a slice from a DataFrame\n",
      "\n",
      "See the caveats in the documentation: http://pandas.pydata.org/pandas-docs/stable/indexing.html#indexing-view-versus-copy\n",
      "  \n",
      "/home/milad/anaconda3/lib/python3.6/site-packages/ipykernel_launcher.py:15: SettingWithCopyWarning: \n",
      "A value is trying to be set on a copy of a slice from a DataFrame\n",
      "\n",
      "See the caveats in the documentation: http://pandas.pydata.org/pandas-docs/stable/indexing.html#indexing-view-versus-copy\n",
      "  from ipykernel import kernelapp as app\n"
     ]
    }
   ],
   "source": [
    "ranking_2018 = fifa_ranking[(fifa_ranking['rank_date']>\"2018-04-01\") & (fifa_ranking['rank_date']<\"2018-05-01\")]\n",
    "ranking_2014 = fifa_ranking[(fifa_ranking['rank_date']>\"2014-04-01\") & (fifa_ranking['rank_date']<\"2014-05-01\")]\n",
    "ranking_2010 = fifa_ranking[(fifa_ranking['rank_date']>\"2010-04-01\") & (fifa_ranking['rank_date']<\"2010-05-01\")]\n",
    "ranking_2006 = fifa_ranking[(fifa_ranking['rank_date']>\"2006-04-01\") & (fifa_ranking['rank_date']<\"2006-05-01\")]\n",
    "ranking_2002 = fifa_ranking[(fifa_ranking['rank_date']>\"2002-03-01\") & (fifa_ranking['rank_date']<\"2002-04-01\")]\n",
    "ranking_1998 = fifa_ranking[(fifa_ranking['rank_date']>\"1998-04-01\") & (fifa_ranking['rank_date']<\"1998-05-01\")]\n",
    "ranking_1994 = fifa_ranking[(fifa_ranking['rank_date']>\"1994-04-01\") & (fifa_ranking['rank_date']<\"1994-05-01\")]\n",
    "\n",
    "ranking_2018.drop_duplicates(keep='last',inplace=True)\n",
    "ranking_2014.drop_duplicates(keep='last',inplace=True) \n",
    "ranking_2010.drop_duplicates(keep='last',inplace=True) \n",
    "ranking_2006.drop_duplicates(keep='last',inplace=True) \n",
    "ranking_2002.drop_duplicates(keep='last',inplace=True) \n",
    "ranking_1998.drop_duplicates(keep='last',inplace=True) \n",
    "ranking_1994.drop_duplicates(keep='last',inplace=True)"
   ]
  },
  {
   "cell_type": "code",
   "execution_count": 7,
   "metadata": {},
   "outputs": [],
   "source": [
    "df.loc[df.Year == 2018,'rank_Team1'] = df['Team1'].map(ranking_2018.set_index('country_full')['rank'])\n",
    "df.loc[df.Year == 2018,'rank_Team2'] = df['Team2'].map(ranking_2018.set_index('country_full')['rank'])\n",
    "\n",
    "df.loc[df.Year == 2014,'rank_Team1'] = df['Team1'].map(ranking_2014.set_index('country_full')['rank'])\n",
    "df.loc[df.Year == 2014,'rank_Team2'] = df['Team2'].map(ranking_2014.set_index('country_full')['rank'])\n",
    "\n",
    "df.loc[df.Year == 2010,'rank_Team1'] = df['Team1'].map(ranking_2010.set_index('country_full')['rank'])\n",
    "df.loc[df.Year == 2010,'rank_Team2'] = df['Team2'].map(ranking_2010.set_index('country_full')['rank'])\n",
    "\n",
    "df.loc[df.Year == 2006,'rank_Team1'] = df['Team1'].map(ranking_2006.set_index('country_full')['rank'])\n",
    "df.loc[df.Year == 2006,'rank_Team2'] = df['Team2'].map(ranking_2006.set_index('country_full')['rank'])\n",
    "\n",
    "df.loc[df.Year == 2002,'rank_Team1'] = df['Team1'].map(ranking_2002.set_index('country_full')['rank'])\n",
    "df.loc[df.Year == 2002,'rank_Team2'] = df['Team2'].map(ranking_2002.set_index('country_full')['rank'])\n",
    "\n",
    "df.loc[df.Year == 1998,'rank_Team1'] = df['Team1'].map(ranking_1998.set_index('country_full')['rank'])\n",
    "df.loc[df.Year == 1998,'rank_Team2'] = df['Team2'].map(ranking_1998.set_index('country_full')['rank'])\n",
    "\n",
    "df.loc[df.Year == 1994,'rank_Team1'] = df['Team1'].map(ranking_1994.set_index('country_full')['rank'])\n",
    "df.loc[df.Year == 1994,'rank_Team2'] = df['Team2'].map(ranking_1994.set_index('country_full')['rank'])\n",
    "\n",
    "df.loc[df.Year == 1990,'rank_Team1'] = df['Team1'].map(ranking_1994.set_index('country_full')['rank'])\n",
    "df.loc[df.Year == 1990,'rank_Team2'] = df['Team2'].map(ranking_1994.set_index('country_full')['rank'])"
   ]
  },
  {
   "cell_type": "code",
   "execution_count": null,
   "metadata": {},
   "outputs": [],
   "source": [
    "df.head()"
   ]
  },
  {
   "cell_type": "code",
   "execution_count": 8,
   "metadata": {},
   "outputs": [
    {
     "data": {
      "text/html": [
       "<div>\n",
       "<style scoped>\n",
       "    .dataframe tbody tr th:only-of-type {\n",
       "        vertical-align: middle;\n",
       "    }\n",
       "\n",
       "    .dataframe tbody tr th {\n",
       "        vertical-align: top;\n",
       "    }\n",
       "\n",
       "    .dataframe thead th {\n",
       "        text-align: right;\n",
       "    }\n",
       "</style>\n",
       "<table border=\"1\" class=\"dataframe\">\n",
       "  <thead>\n",
       "    <tr style=\"text-align: right;\">\n",
       "      <th></th>\n",
       "      <th>Team1</th>\n",
       "      <th>Team2</th>\n",
       "      <th>Rounds</th>\n",
       "      <th>Score1</th>\n",
       "      <th>Score2</th>\n",
       "      <th>Remarks</th>\n",
       "      <th>rank_Team1</th>\n",
       "      <th>rank_Team2</th>\n",
       "    </tr>\n",
       "  </thead>\n",
       "  <tbody>\n",
       "    <tr>\n",
       "      <th>0</th>\n",
       "      <td>Russia</td>\n",
       "      <td>Saudi Arabia</td>\n",
       "      <td>Group Phase</td>\n",
       "      <td>5</td>\n",
       "      <td>0</td>\n",
       "      <td>NaN</td>\n",
       "      <td>66.0</td>\n",
       "      <td>70.0</td>\n",
       "    </tr>\n",
       "    <tr>\n",
       "      <th>1</th>\n",
       "      <td>Egypt</td>\n",
       "      <td>Uruguay</td>\n",
       "      <td>Group Phase</td>\n",
       "      <td>0</td>\n",
       "      <td>1</td>\n",
       "      <td>NaN</td>\n",
       "      <td>46.0</td>\n",
       "      <td>17.0</td>\n",
       "    </tr>\n",
       "    <tr>\n",
       "      <th>2</th>\n",
       "      <td>Morocco</td>\n",
       "      <td>IR Iran</td>\n",
       "      <td>Group Phase</td>\n",
       "      <td>0</td>\n",
       "      <td>1</td>\n",
       "      <td>NaN</td>\n",
       "      <td>42.0</td>\n",
       "      <td>36.0</td>\n",
       "    </tr>\n",
       "    <tr>\n",
       "      <th>3</th>\n",
       "      <td>Portugal</td>\n",
       "      <td>Spain</td>\n",
       "      <td>Group Phase</td>\n",
       "      <td>3</td>\n",
       "      <td>3</td>\n",
       "      <td>{WinTeamName} win on aggregate after regular t...</td>\n",
       "      <td>4.0</td>\n",
       "      <td>8.0</td>\n",
       "    </tr>\n",
       "    <tr>\n",
       "      <th>4</th>\n",
       "      <td>France</td>\n",
       "      <td>Australia</td>\n",
       "      <td>Group Phase</td>\n",
       "      <td>2</td>\n",
       "      <td>1</td>\n",
       "      <td>NaN</td>\n",
       "      <td>7.0</td>\n",
       "      <td>40.0</td>\n",
       "    </tr>\n",
       "  </tbody>\n",
       "</table>\n",
       "</div>"
      ],
      "text/plain": [
       "      Team1         Team2       Rounds  Score1  Score2  \\\n",
       "0    Russia  Saudi Arabia  Group Phase       5       0   \n",
       "1     Egypt       Uruguay  Group Phase       0       1   \n",
       "2   Morocco       IR Iran  Group Phase       0       1   \n",
       "3  Portugal         Spain  Group Phase       3       3   \n",
       "4    France     Australia  Group Phase       2       1   \n",
       "\n",
       "                                             Remarks  rank_Team1  rank_Team2  \n",
       "0                                                NaN        66.0        70.0  \n",
       "1                                                NaN        46.0        17.0  \n",
       "2                                                NaN        42.0        36.0  \n",
       "3  {WinTeamName} win on aggregate after regular t...         4.0         8.0  \n",
       "4                                                NaN         7.0        40.0  "
      ]
     },
     "execution_count": 8,
     "metadata": {},
     "output_type": "execute_result"
    }
   ],
   "source": [
    "df= df.drop(['Stadium','City','Time','Day','Month','Year'], axis=1)\n",
    "df.head()"
   ]
  },
  {
   "cell_type": "code",
   "execution_count": 9,
   "metadata": {},
   "outputs": [
    {
     "data": {
      "text/html": [
       "<div>\n",
       "<style scoped>\n",
       "    .dataframe tbody tr th:only-of-type {\n",
       "        vertical-align: middle;\n",
       "    }\n",
       "\n",
       "    .dataframe tbody tr th {\n",
       "        vertical-align: top;\n",
       "    }\n",
       "\n",
       "    .dataframe thead th {\n",
       "        text-align: right;\n",
       "    }\n",
       "</style>\n",
       "<table border=\"1\" class=\"dataframe\">\n",
       "  <thead>\n",
       "    <tr style=\"text-align: right;\">\n",
       "      <th></th>\n",
       "      <th>Team1</th>\n",
       "      <th>Team2</th>\n",
       "      <th>Rounds</th>\n",
       "      <th>Score1</th>\n",
       "      <th>Score2</th>\n",
       "      <th>Remarks</th>\n",
       "      <th>rank_Team1</th>\n",
       "      <th>rank_Team2</th>\n",
       "      <th>continent_team1</th>\n",
       "      <th>continent_team2</th>\n",
       "    </tr>\n",
       "  </thead>\n",
       "  <tbody>\n",
       "    <tr>\n",
       "      <th>0</th>\n",
       "      <td>Russia</td>\n",
       "      <td>Saudi Arabia</td>\n",
       "      <td>Group Phase</td>\n",
       "      <td>5</td>\n",
       "      <td>0</td>\n",
       "      <td>NaN</td>\n",
       "      <td>66.0</td>\n",
       "      <td>70.0</td>\n",
       "      <td>Europe</td>\n",
       "      <td>Asia</td>\n",
       "    </tr>\n",
       "    <tr>\n",
       "      <th>1</th>\n",
       "      <td>Egypt</td>\n",
       "      <td>Uruguay</td>\n",
       "      <td>Group Phase</td>\n",
       "      <td>0</td>\n",
       "      <td>1</td>\n",
       "      <td>NaN</td>\n",
       "      <td>46.0</td>\n",
       "      <td>17.0</td>\n",
       "      <td>Asia</td>\n",
       "      <td>South America</td>\n",
       "    </tr>\n",
       "    <tr>\n",
       "      <th>2</th>\n",
       "      <td>Morocco</td>\n",
       "      <td>IR Iran</td>\n",
       "      <td>Group Phase</td>\n",
       "      <td>0</td>\n",
       "      <td>1</td>\n",
       "      <td>NaN</td>\n",
       "      <td>42.0</td>\n",
       "      <td>36.0</td>\n",
       "      <td>Africa</td>\n",
       "      <td>Asia</td>\n",
       "    </tr>\n",
       "    <tr>\n",
       "      <th>3</th>\n",
       "      <td>Portugal</td>\n",
       "      <td>Spain</td>\n",
       "      <td>Group Phase</td>\n",
       "      <td>3</td>\n",
       "      <td>3</td>\n",
       "      <td>{WinTeamName} win on aggregate after regular t...</td>\n",
       "      <td>4.0</td>\n",
       "      <td>8.0</td>\n",
       "      <td>Europe</td>\n",
       "      <td>Europe</td>\n",
       "    </tr>\n",
       "    <tr>\n",
       "      <th>4</th>\n",
       "      <td>France</td>\n",
       "      <td>Australia</td>\n",
       "      <td>Group Phase</td>\n",
       "      <td>2</td>\n",
       "      <td>1</td>\n",
       "      <td>NaN</td>\n",
       "      <td>7.0</td>\n",
       "      <td>40.0</td>\n",
       "      <td>Europe</td>\n",
       "      <td>Australia</td>\n",
       "    </tr>\n",
       "  </tbody>\n",
       "</table>\n",
       "</div>"
      ],
      "text/plain": [
       "      Team1         Team2       Rounds  Score1  Score2  \\\n",
       "0    Russia  Saudi Arabia  Group Phase       5       0   \n",
       "1     Egypt       Uruguay  Group Phase       0       1   \n",
       "2   Morocco       IR Iran  Group Phase       0       1   \n",
       "3  Portugal         Spain  Group Phase       3       3   \n",
       "4    France     Australia  Group Phase       2       1   \n",
       "\n",
       "                                             Remarks  rank_Team1  rank_Team2  \\\n",
       "0                                                NaN        66.0        70.0   \n",
       "1                                                NaN        46.0        17.0   \n",
       "2                                                NaN        42.0        36.0   \n",
       "3  {WinTeamName} win on aggregate after regular t...         4.0         8.0   \n",
       "4                                                NaN         7.0        40.0   \n",
       "\n",
       "  continent_team1 continent_team2  \n",
       "0          Europe            Asia  \n",
       "1            Asia   South America  \n",
       "2          Africa            Asia  \n",
       "3          Europe          Europe  \n",
       "4          Europe       Australia  "
      ]
     },
     "execution_count": 9,
     "metadata": {},
     "output_type": "execute_result"
    }
   ],
   "source": [
    "#Adding Continent \n",
    "continent_list1 = []\n",
    "continent_list2 = []\n",
    "\n",
    "for i in range (len(df['Team1'])):\n",
    "    if df['Team1'][i] in continent:\n",
    "        continent_list1.append(continent[df['Team1'][i]])\n",
    "    else:\n",
    "        print(df['Team1'][i])\n",
    "        \n",
    "for j in range (len(df['Team2'])):   \n",
    "    if df['Team2'][j] in continent:\n",
    "        continent_list2.append(continent[df['Team2'][j]])\n",
    "\n",
    "df['continent_team1'] = continent_list1\n",
    "df['continent_team2'] = continent_list2\n",
    "df.head()"
   ]
  },
  {
   "cell_type": "code",
   "execution_count": 34,
   "metadata": {},
   "outputs": [
    {
     "name": "stdout",
     "output_type": "stream",
     "text": [
      "[ 0.5255155]\n",
      "[ 0.19072273]\n",
      "[ 0.72643102]\n",
      "[ 0.52977848]\n",
      "[ 0.44308043]\n",
      "[ 0.74078899]\n",
      "[ 0.11876637]\n",
      "[ 0.44489669]\n",
      "[ 0.61549479]\n",
      "[ 0.60687457]\n",
      "[ 0.52462403]\n",
      "[ 0.95009024]\n",
      "[ 0.14451743]\n",
      "[ 0.50582773]\n",
      "[ 0.1943231]\n",
      "[ 0.44184252]\n",
      "[ 0.80078259]\n",
      "[ 0.28473544]\n",
      "[ 0.20456367]\n",
      "[ 0.46915006]\n",
      "[ 0.60860884]\n",
      "[ 0.13090754]\n",
      "[ 0.0344114]\n",
      "[ 0.71457829]\n",
      "[ 0.21456326]\n",
      "[ 0.78547387]\n",
      "[ 0.05636026]\n",
      "[ 0.83666637]\n",
      "[ 0.94958632]\n",
      "[ 0.53395203]\n",
      "[ 0.15446186]\n",
      "[ 0.37359442]\n",
      "[ 0.18681384]\n",
      "[ 0.42486889]\n",
      "[ 0.85071158]\n",
      "[ 0.3866842]\n",
      "[ 0.59393437]\n",
      "[ 0.08830658]\n",
      "[ 0.28221158]\n",
      "[ 0.49308071]\n",
      "[ 0.35028233]\n",
      "[ 0.36022059]\n",
      "[ 0.45664056]\n",
      "[ 0.12967056]\n",
      "[ 0.75187198]\n",
      "[ 0.33431086]\n",
      "[ 0.20350816]\n",
      "[ 0.03088956]\n"
     ]
    },
    {
     "data": {
      "text/html": [
       "<div>\n",
       "<style scoped>\n",
       "    .dataframe tbody tr th:only-of-type {\n",
       "        vertical-align: middle;\n",
       "    }\n",
       "\n",
       "    .dataframe tbody tr th {\n",
       "        vertical-align: top;\n",
       "    }\n",
       "\n",
       "    .dataframe thead th {\n",
       "        text-align: right;\n",
       "    }\n",
       "</style>\n",
       "<table border=\"1\" class=\"dataframe\">\n",
       "  <thead>\n",
       "    <tr style=\"text-align: right;\">\n",
       "      <th></th>\n",
       "      <th>Team1</th>\n",
       "      <th>Team2</th>\n",
       "      <th>Rounds</th>\n",
       "      <th>Score1</th>\n",
       "      <th>Score2</th>\n",
       "      <th>Remarks</th>\n",
       "      <th>rank_Team1</th>\n",
       "      <th>rank_Team2</th>\n",
       "      <th>continent_team1</th>\n",
       "      <th>continent_team2</th>\n",
       "      <th>prediction_winner</th>\n",
       "      <th>winner</th>\n",
       "    </tr>\n",
       "  </thead>\n",
       "  <tbody>\n",
       "    <tr>\n",
       "      <th>0</th>\n",
       "      <td>Russia</td>\n",
       "      <td>Saudi Arabia</td>\n",
       "      <td>Group Phase</td>\n",
       "      <td>5</td>\n",
       "      <td>0</td>\n",
       "      <td>NaN</td>\n",
       "      <td>66.0</td>\n",
       "      <td>70.0</td>\n",
       "      <td>Europe</td>\n",
       "      <td>Asia</td>\n",
       "      <td>Russia</td>\n",
       "      <td>Russia</td>\n",
       "    </tr>\n",
       "    <tr>\n",
       "      <th>1</th>\n",
       "      <td>Egypt</td>\n",
       "      <td>Uruguay</td>\n",
       "      <td>Group Phase</td>\n",
       "      <td>0</td>\n",
       "      <td>1</td>\n",
       "      <td>NaN</td>\n",
       "      <td>46.0</td>\n",
       "      <td>17.0</td>\n",
       "      <td>Asia</td>\n",
       "      <td>South America</td>\n",
       "      <td>Uruguay</td>\n",
       "      <td>Uruguay</td>\n",
       "    </tr>\n",
       "    <tr>\n",
       "      <th>2</th>\n",
       "      <td>Morocco</td>\n",
       "      <td>IR Iran</td>\n",
       "      <td>Group Phase</td>\n",
       "      <td>0</td>\n",
       "      <td>1</td>\n",
       "      <td>NaN</td>\n",
       "      <td>42.0</td>\n",
       "      <td>36.0</td>\n",
       "      <td>Africa</td>\n",
       "      <td>Asia</td>\n",
       "      <td>IR Iran</td>\n",
       "      <td>IR Iran</td>\n",
       "    </tr>\n",
       "    <tr>\n",
       "      <th>3</th>\n",
       "      <td>Portugal</td>\n",
       "      <td>Spain</td>\n",
       "      <td>Group Phase</td>\n",
       "      <td>3</td>\n",
       "      <td>3</td>\n",
       "      <td>{WinTeamName} win on aggregate after regular t...</td>\n",
       "      <td>4.0</td>\n",
       "      <td>8.0</td>\n",
       "      <td>Europe</td>\n",
       "      <td>Europe</td>\n",
       "      <td>Portugal</td>\n",
       "      <td>-1</td>\n",
       "    </tr>\n",
       "    <tr>\n",
       "      <th>4</th>\n",
       "      <td>France</td>\n",
       "      <td>Australia</td>\n",
       "      <td>Group Phase</td>\n",
       "      <td>2</td>\n",
       "      <td>1</td>\n",
       "      <td>NaN</td>\n",
       "      <td>7.0</td>\n",
       "      <td>40.0</td>\n",
       "      <td>Europe</td>\n",
       "      <td>Australia</td>\n",
       "      <td>France</td>\n",
       "      <td>France</td>\n",
       "    </tr>\n",
       "  </tbody>\n",
       "</table>\n",
       "</div>"
      ],
      "text/plain": [
       "      Team1         Team2       Rounds  Score1  Score2  \\\n",
       "0    Russia  Saudi Arabia  Group Phase       5       0   \n",
       "1     Egypt       Uruguay  Group Phase       0       1   \n",
       "2   Morocco       IR Iran  Group Phase       0       1   \n",
       "3  Portugal         Spain  Group Phase       3       3   \n",
       "4    France     Australia  Group Phase       2       1   \n",
       "\n",
       "                                             Remarks  rank_Team1  rank_Team2  \\\n",
       "0                                                NaN        66.0        70.0   \n",
       "1                                                NaN        46.0        17.0   \n",
       "2                                                NaN        42.0        36.0   \n",
       "3  {WinTeamName} win on aggregate after regular t...         4.0         8.0   \n",
       "4                                                NaN         7.0        40.0   \n",
       "\n",
       "  continent_team1 continent_team2 prediction_winner   winner  \n",
       "0          Europe            Asia            Russia   Russia  \n",
       "1            Asia   South America           Uruguay  Uruguay  \n",
       "2          Africa            Asia           IR Iran  IR Iran  \n",
       "3          Europe          Europe          Portugal       -1  \n",
       "4          Europe       Australia            France   France  "
      ]
     },
     "execution_count": 34,
     "metadata": {},
     "output_type": "execute_result"
    }
   ],
   "source": [
    "#Adding who is the winner \n",
    "prediction_winner = []\n",
    "Flag =False\n",
    "isDraw =False\n",
    "for i in range (len(df['Team1'])):\n",
    "    Flag =False\n",
    "    isDraw =False\n",
    "    if df['Rounds'][i] == 'Group Phase':\n",
    "        random = np.random.uniform(0,1,1)\n",
    "        print(random)\n",
    "        if random[0] < 0.0:\n",
    "            prediction_winner.append('Draw')\n",
    "            print(\"X\")\n",
    "            isDraw =True\n",
    "            \n",
    "    if isDraw ==False:   \n",
    "        Flag = False\n",
    "\n",
    "        if (Flag ==False) & ((df['continent_team1'][i]=='Europe') & (df['continent_team2'][i]=='Asia')):\n",
    "            prediction_winner.append(df['Team1'][i])\n",
    "            Flag = True\n",
    "\n",
    "        if (Flag ==False) & ((df['continent_team2'][i]=='Europe') & (df['continent_team1'][i]=='Asia')):\n",
    "            prediction_winner.append(df['Team2'][i])\n",
    "            Flag = True\n",
    "\n",
    "        if (Flag ==False) & ((df['continent_team1'][i]=='South America') & (df['continent_team2'][i]=='Asia')):\n",
    "            prediction_winner.append(df['Team1'][i])\n",
    "            Flag = True\n",
    "\n",
    "        if (Flag ==False) & ((df['continent_team2'][i]=='South America') & (df['continent_team1'][i]=='Asia')):\n",
    "            prediction_winner.append(df['Team2'][i])\n",
    "            Flag = True\n",
    "\n",
    "\n",
    "        if (Flag ==False) & ((df['continent_team1'][i]=='South America') & (df['continent_team2'][i]=='Australia')):\n",
    "            prediction_winner.append(df['Team1'][i])\n",
    "            Flag = True\n",
    "\n",
    "        if (Flag == False) & ((df['continent_team2'][i]=='South America') & (df['continent_team1'][i]=='Australia')):\n",
    "            prediction_winner.append(df['Team2'][i])\n",
    "            Flag = True\n",
    "\n",
    "        if (Flag ==False) & (df['rank_Team1'][i] >= df['rank_Team2'][i]):\n",
    "            prediction_winner.append(df['Team2'][i])\n",
    "            Flag = True\n",
    "\n",
    "\n",
    "        if (Flag ==False) & (df['rank_Team2'][i] >= df['rank_Team1'][i]):\n",
    "            prediction_winner.append(df['Team1'][i])\n",
    "            Flag = True\n",
    "\n",
    "\n",
    "\n",
    "df['prediction_winner'] = prediction_winner\n",
    "df.head()"
   ]
  },
  {
   "cell_type": "code",
   "execution_count": 12,
   "metadata": {},
   "outputs": [
    {
     "data": {
      "text/plain": [
       "12"
      ]
     },
     "execution_count": 12,
     "metadata": {},
     "output_type": "execute_result"
    }
   ],
   "source": [
    "len(prediction_winner)"
   ]
  },
  {
   "cell_type": "code",
   "execution_count": null,
   "metadata": {},
   "outputs": [],
   "source": [
    "# continent_dict = {\"Australia\":1, \"Asia\":2, \"Europe\":3, \"Africa\":4, \"North America\":5, \"South America\":6}\n",
    "# continent_encoded_team1 = []\n",
    "# continent_encoded_team2 = []\n",
    "\n",
    "\n",
    "# for i in range(len(df.continent_team1)):\n",
    "#     continent_encoded_team1.append(continent_dict[list(df.continent_team1)[i]])\n",
    "#     continent_encoded_team2.append(continent_dict[list(df.continent_team2)[i]])\n",
    "    \n",
    "# df[\"continent_encoded_team1\"] = continent_encoded_team1\n",
    "# df[\"continent_encoded_team2\"] = continent_encoded_team2"
   ]
  },
  {
   "cell_type": "code",
   "execution_count": null,
   "metadata": {},
   "outputs": [],
   "source": [
    "# #Adding who is the continent winner \n",
    "# continent_winner = []\n",
    "# for i in range (len(df['Team1'])):\n",
    "#     if df['continent_encoded_team1'][i] > df['continent_encoded_team2'][i]:\n",
    "#         continent_winner.append(df['Team1'][i])\n",
    "#     elif df['continent_encoded_team1'][i] < df['continent_encoded_team2'][i]:\n",
    "#         continent_winner.append(df['Team2'][i])\n",
    "        \n",
    "#     elif df['rank_Team1'][i] > df['rank_Team2'][i]:\n",
    "#         continent_winner.append(df['Team2'][i])\n",
    "#     else:\n",
    "#         continent_winner.append(df['Team1'][i])\n",
    "\n",
    "\n",
    "# df['continent_winner'] = continent_winner\n",
    "# df.head()"
   ]
  },
  {
   "cell_type": "code",
   "execution_count": null,
   "metadata": {},
   "outputs": [],
   "source": [
    "countries = list(set(df[\"Team1\"]).union(set(df[\"Team2\"])))\n",
    "countries_dict = {}\n",
    "for i in range(len(countries)):\n",
    "    countries_dict[countries[i]] = i\n",
    "    \n",
    "Team1_encoded = []\n",
    "Team2_encoded = []\n",
    "\n",
    "for i in range(len(df)):\n",
    "    Team1_encoded.append(countries_dict[list(df.Team1)[i]])\n",
    "    Team2_encoded.append(countries_dict[list(df.Team2)[i]])\n",
    "    \n",
    "df[\"Team1\"] = Team1_encoded\n",
    "df[\"Team2\"] = Team2_encoded"
   ]
  },
  {
   "cell_type": "code",
   "execution_count": 15,
   "metadata": {},
   "outputs": [
    {
     "data": {
      "text/html": [
       "<div>\n",
       "<style scoped>\n",
       "    .dataframe tbody tr th:only-of-type {\n",
       "        vertical-align: middle;\n",
       "    }\n",
       "\n",
       "    .dataframe tbody tr th {\n",
       "        vertical-align: top;\n",
       "    }\n",
       "\n",
       "    .dataframe thead th {\n",
       "        text-align: right;\n",
       "    }\n",
       "</style>\n",
       "<table border=\"1\" class=\"dataframe\">\n",
       "  <thead>\n",
       "    <tr style=\"text-align: right;\">\n",
       "      <th></th>\n",
       "      <th>Team1</th>\n",
       "      <th>Team2</th>\n",
       "      <th>Rounds</th>\n",
       "      <th>Score1</th>\n",
       "      <th>Score2</th>\n",
       "      <th>Remarks</th>\n",
       "      <th>rank_Team1</th>\n",
       "      <th>rank_Team2</th>\n",
       "      <th>continent_team1</th>\n",
       "      <th>continent_team2</th>\n",
       "      <th>prediction_winner</th>\n",
       "      <th>winner</th>\n",
       "    </tr>\n",
       "  </thead>\n",
       "  <tbody>\n",
       "    <tr>\n",
       "      <th>0</th>\n",
       "      <td>Russia</td>\n",
       "      <td>Saudi Arabia</td>\n",
       "      <td>Group Phase</td>\n",
       "      <td>5</td>\n",
       "      <td>0</td>\n",
       "      <td>NaN</td>\n",
       "      <td>66.0</td>\n",
       "      <td>70.0</td>\n",
       "      <td>Europe</td>\n",
       "      <td>Asia</td>\n",
       "      <td>Draw</td>\n",
       "      <td>Russia</td>\n",
       "    </tr>\n",
       "    <tr>\n",
       "      <th>1</th>\n",
       "      <td>Egypt</td>\n",
       "      <td>Uruguay</td>\n",
       "      <td>Group Phase</td>\n",
       "      <td>0</td>\n",
       "      <td>1</td>\n",
       "      <td>NaN</td>\n",
       "      <td>46.0</td>\n",
       "      <td>17.0</td>\n",
       "      <td>Asia</td>\n",
       "      <td>South America</td>\n",
       "      <td>Uruguay</td>\n",
       "      <td>Uruguay</td>\n",
       "    </tr>\n",
       "    <tr>\n",
       "      <th>2</th>\n",
       "      <td>Morocco</td>\n",
       "      <td>IR Iran</td>\n",
       "      <td>Group Phase</td>\n",
       "      <td>0</td>\n",
       "      <td>1</td>\n",
       "      <td>NaN</td>\n",
       "      <td>42.0</td>\n",
       "      <td>36.0</td>\n",
       "      <td>Africa</td>\n",
       "      <td>Asia</td>\n",
       "      <td>IR Iran</td>\n",
       "      <td>IR Iran</td>\n",
       "    </tr>\n",
       "    <tr>\n",
       "      <th>3</th>\n",
       "      <td>Portugal</td>\n",
       "      <td>Spain</td>\n",
       "      <td>Group Phase</td>\n",
       "      <td>3</td>\n",
       "      <td>3</td>\n",
       "      <td>{WinTeamName} win on aggregate after regular t...</td>\n",
       "      <td>4.0</td>\n",
       "      <td>8.0</td>\n",
       "      <td>Europe</td>\n",
       "      <td>Europe</td>\n",
       "      <td>Draw</td>\n",
       "      <td>-1</td>\n",
       "    </tr>\n",
       "    <tr>\n",
       "      <th>4</th>\n",
       "      <td>France</td>\n",
       "      <td>Australia</td>\n",
       "      <td>Group Phase</td>\n",
       "      <td>2</td>\n",
       "      <td>1</td>\n",
       "      <td>NaN</td>\n",
       "      <td>7.0</td>\n",
       "      <td>40.0</td>\n",
       "      <td>Europe</td>\n",
       "      <td>Australia</td>\n",
       "      <td>France</td>\n",
       "      <td>France</td>\n",
       "    </tr>\n",
       "  </tbody>\n",
       "</table>\n",
       "</div>"
      ],
      "text/plain": [
       "      Team1         Team2       Rounds  Score1  Score2  \\\n",
       "0    Russia  Saudi Arabia  Group Phase       5       0   \n",
       "1     Egypt       Uruguay  Group Phase       0       1   \n",
       "2   Morocco       IR Iran  Group Phase       0       1   \n",
       "3  Portugal         Spain  Group Phase       3       3   \n",
       "4    France     Australia  Group Phase       2       1   \n",
       "\n",
       "                                             Remarks  rank_Team1  rank_Team2  \\\n",
       "0                                                NaN        66.0        70.0   \n",
       "1                                                NaN        46.0        17.0   \n",
       "2                                                NaN        42.0        36.0   \n",
       "3  {WinTeamName} win on aggregate after regular t...         4.0         8.0   \n",
       "4                                                NaN         7.0        40.0   \n",
       "\n",
       "  continent_team1 continent_team2 prediction_winner   winner  \n",
       "0          Europe            Asia              Draw   Russia  \n",
       "1            Asia   South America           Uruguay  Uruguay  \n",
       "2          Africa            Asia           IR Iran  IR Iran  \n",
       "3          Europe          Europe              Draw       -1  \n",
       "4          Europe       Australia            France   France  "
      ]
     },
     "execution_count": 15,
     "metadata": {},
     "output_type": "execute_result"
    }
   ],
   "source": [
    "#Adding who is the winner \n",
    "winner = []\n",
    "for i in range (len(df['Team1'])):\n",
    "    if df['Score1'][i] > df['Score2'][i]:\n",
    "        winner.append(df['Team1'][i])\n",
    "    elif df['Score1'][i] < df['Score2'][i]:\n",
    "        winner.append(df['Team2'][i])\n",
    "    else:\n",
    "        winner.append('-1')\n",
    "\n",
    "df['winner'] = winner\n",
    "df.head()"
   ]
  },
  {
   "cell_type": "code",
   "execution_count": null,
   "metadata": {},
   "outputs": [],
   "source": [
    "df= df.drop(['Remarks','City','Time','Month','Year','continent_team1','continent_team2'], axis=1)\n",
    "df.head()"
   ]
  },
  {
   "cell_type": "code",
   "execution_count": null,
   "metadata": {},
   "outputs": [],
   "source": []
  },
  {
   "cell_type": "code",
   "execution_count": null,
   "metadata": {},
   "outputs": [],
   "source": [
    "df5 =  df[df.prediction_winner!=df.winner]"
   ]
  },
  {
   "cell_type": "code",
   "execution_count": null,
   "metadata": {},
   "outputs": [],
   "source": [
    "df5"
   ]
  },
  {
   "cell_type": "code",
   "execution_count": null,
   "metadata": {},
   "outputs": [],
   "source": [
    "df5.shape"
   ]
  },
  {
   "cell_type": "code",
   "execution_count": null,
   "metadata": {},
   "outputs": [],
   "source": [
    "df.isnull().sum()"
   ]
  },
  {
   "cell_type": "code",
   "execution_count": 35,
   "metadata": {},
   "outputs": [],
   "source": [
    "df4 = df[df.prediction_winner==df.winner]"
   ]
  },
  {
   "cell_type": "code",
   "execution_count": 36,
   "metadata": {},
   "outputs": [
    {
     "data": {
      "text/plain": [
       "(34, 12)"
      ]
     },
     "execution_count": 36,
     "metadata": {},
     "output_type": "execute_result"
    }
   ],
   "source": [
    "df4.shape"
   ]
  },
  {
   "cell_type": "code",
   "execution_count": 37,
   "metadata": {},
   "outputs": [
    {
     "data": {
      "text/plain": [
       "0.53125"
      ]
     },
     "execution_count": 37,
     "metadata": {},
     "output_type": "execute_result"
    }
   ],
   "source": [
    "34/64"
   ]
  },
  {
   "cell_type": "code",
   "execution_count": null,
   "metadata": {},
   "outputs": [],
   "source": [
    "df"
   ]
  },
  {
   "cell_type": "code",
   "execution_count": null,
   "metadata": {},
   "outputs": [],
   "source": [
    "df[df.winner == 'Draw']"
   ]
  },
  {
   "cell_type": "code",
   "execution_count": null,
   "metadata": {},
   "outputs": [],
   "source": [
    "pred_winner = []\n",
    "for j in range (len(df['Team1'])):\n",
    "    if df['rank_Team1'][j] >= df['rank_Team2'][j]:\n",
    "        pred_winner.append(df['Team2'][j])\n",
    "    else:\n",
    "        pred_winner.append(df['Team1'][j])\n",
    "df['pred_win'] = pred_winner"
   ]
  },
  {
   "cell_type": "code",
   "execution_count": null,
   "metadata": {},
   "outputs": [],
   "source": [
    "df.head()"
   ]
  },
  {
   "cell_type": "code",
   "execution_count": null,
   "metadata": {},
   "outputs": [],
   "source": [
    "df2 = df[df.winner == df.pred_win]"
   ]
  },
  {
   "cell_type": "code",
   "execution_count": null,
   "metadata": {},
   "outputs": [],
   "source": [
    "df2.shape"
   ]
  },
  {
   "cell_type": "code",
   "execution_count": null,
   "metadata": {},
   "outputs": [],
   "source": [
    "df[df.winner == 'Draw']"
   ]
  },
  {
   "cell_type": "code",
   "execution_count": null,
   "metadata": {},
   "outputs": [],
   "source": [
    "35/64"
   ]
  },
  {
   "cell_type": "code",
   "execution_count": null,
   "metadata": {},
   "outputs": [],
   "source": [
    "df= df.drop(['Score1','Score2','Remarks'], axis=1)\n",
    "df.head()"
   ]
  },
  {
   "cell_type": "code",
   "execution_count": null,
   "metadata": {},
   "outputs": [],
   "source": [
    "X_train = df[df.Rounds =='Group Phase']\n",
    "X_test = df[df.Rounds !='Group Phase']"
   ]
  },
  {
   "cell_type": "code",
   "execution_count": null,
   "metadata": {},
   "outputs": [],
   "source": [
    "y_train =X_train['winner'] \n",
    "y_test = X_test['winner']"
   ]
  },
  {
   "cell_type": "code",
   "execution_count": null,
   "metadata": {},
   "outputs": [],
   "source": [
    "X_train= X_train.drop(['Rounds','winner'], axis=1)\n",
    "X_test=  X_test.drop(['Rounds','winner'], axis=1)"
   ]
  },
  {
   "cell_type": "code",
   "execution_count": null,
   "metadata": {},
   "outputs": [],
   "source": [
    "X_train= X_train.drop(['prediction_winner'], axis=1)\n",
    "X_test=  X_test.drop(['prediction_winner'], axis=1)"
   ]
  },
  {
   "cell_type": "code",
   "execution_count": null,
   "metadata": {},
   "outputs": [],
   "source": [
    "X_train.head()"
   ]
  },
  {
   "cell_type": "code",
   "execution_count": null,
   "metadata": {},
   "outputs": [],
   "source": [
    "y_train =y_train.astype('int')\n",
    "y_test =y_test.astype('int')"
   ]
  },
  {
   "cell_type": "code",
   "execution_count": null,
   "metadata": {},
   "outputs": [],
   "source": [
    "from sklearn.tree import DecisionTreeClassifier\n",
    "from sklearn.metrics import accuracy_score\n",
    "\n",
    "model_tree= DecisionTreeClassifier()\n",
    "model_tree.fit(X_train,y_train)\n",
    "\n",
    "y_pred_tree = model_tree.predict(X_test)\n",
    "\n",
    "accuracy_score(y_test, y_pred_tree)"
   ]
  },
  {
   "cell_type": "code",
   "execution_count": null,
   "metadata": {},
   "outputs": [],
   "source": [
    "type(y_train)"
   ]
  },
  {
   "cell_type": "code",
   "execution_count": null,
   "metadata": {},
   "outputs": [],
   "source": [
    "35/64"
   ]
  },
  {
   "cell_type": "code",
   "execution_count": null,
   "metadata": {},
   "outputs": [],
   "source": [
    "df.iloc[10:64]"
   ]
  },
  {
   "cell_type": "code",
   "execution_count": null,
   "metadata": {},
   "outputs": [],
   "source": []
  }
 ],
 "metadata": {
  "kernelspec": {
   "display_name": "Python 3",
   "language": "python",
   "name": "python3"
  },
  "language_info": {
   "codemirror_mode": {
    "name": "ipython",
    "version": 3
   },
   "file_extension": ".py",
   "mimetype": "text/x-python",
   "name": "python",
   "nbconvert_exporter": "python",
   "pygments_lexer": "ipython3",
   "version": "3.6.4"
  }
 },
 "nbformat": 4,
 "nbformat_minor": 2
}
