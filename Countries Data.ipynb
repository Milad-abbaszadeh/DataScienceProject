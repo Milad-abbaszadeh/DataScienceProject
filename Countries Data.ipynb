{
 "cells": [
  {
   "cell_type": "code",
   "execution_count": 1,
   "metadata": {},
   "outputs": [],
   "source": [
    "import pandas as pd\n",
    "import numpy as np\n",
    "\n",
    "from pandas.api.types import CategoricalDtype"
   ]
  },
  {
   "cell_type": "code",
   "execution_count": 4,
   "metadata": {},
   "outputs": [],
   "source": [
    "# data = pd.read_csv(\"FIFA 1982-2018 - Cleaned.csv\")\n",
    "data = pd.read_csv('./datasets/final_data/FIFA Data 1990-2018.csv')\n",
    "# data = pd.read_csv(\"temp.csv\")"
   ]
  },
  {
   "cell_type": "code",
   "execution_count": 5,
   "metadata": {},
   "outputs": [
    {
     "data": {
      "text/html": [
       "<div>\n",
       "<style scoped>\n",
       "    .dataframe tbody tr th:only-of-type {\n",
       "        vertical-align: middle;\n",
       "    }\n",
       "\n",
       "    .dataframe tbody tr th {\n",
       "        vertical-align: top;\n",
       "    }\n",
       "\n",
       "    .dataframe thead th {\n",
       "        text-align: right;\n",
       "    }\n",
       "</style>\n",
       "<table border=\"1\" class=\"dataframe\">\n",
       "  <thead>\n",
       "    <tr style=\"text-align: right;\">\n",
       "      <th></th>\n",
       "      <th>Team1</th>\n",
       "      <th>Team2</th>\n",
       "      <th>Rounds</th>\n",
       "      <th>Year</th>\n",
       "      <th>Score1</th>\n",
       "      <th>Score2</th>\n",
       "      <th>Ranking T1</th>\n",
       "      <th>Score T1</th>\n",
       "      <th>Ranking T2</th>\n",
       "      <th>Score T2</th>\n",
       "      <th>Winner</th>\n",
       "    </tr>\n",
       "  </thead>\n",
       "  <tbody>\n",
       "    <tr>\n",
       "      <th>0</th>\n",
       "      <td>Russia</td>\n",
       "      <td>Saudi Arabia</td>\n",
       "      <td>Group Phase</td>\n",
       "      <td>2018</td>\n",
       "      <td>5</td>\n",
       "      <td>0</td>\n",
       "      <td>70.0</td>\n",
       "      <td>457.0</td>\n",
       "      <td>67.0</td>\n",
       "      <td>465.0</td>\n",
       "      <td>1</td>\n",
       "    </tr>\n",
       "    <tr>\n",
       "      <th>1</th>\n",
       "      <td>Egypt</td>\n",
       "      <td>Uruguay</td>\n",
       "      <td>Group Phase</td>\n",
       "      <td>2018</td>\n",
       "      <td>0</td>\n",
       "      <td>1</td>\n",
       "      <td>45.0</td>\n",
       "      <td>649.0</td>\n",
       "      <td>14.0</td>\n",
       "      <td>1018.0</td>\n",
       "      <td>2</td>\n",
       "    </tr>\n",
       "    <tr>\n",
       "      <th>2</th>\n",
       "      <td>Morocco</td>\n",
       "      <td>IR Iran</td>\n",
       "      <td>Group Phase</td>\n",
       "      <td>2018</td>\n",
       "      <td>0</td>\n",
       "      <td>1</td>\n",
       "      <td>41.0</td>\n",
       "      <td>686.0</td>\n",
       "      <td>37.0</td>\n",
       "      <td>708.0</td>\n",
       "      <td>2</td>\n",
       "    </tr>\n",
       "    <tr>\n",
       "      <th>3</th>\n",
       "      <td>Portugal</td>\n",
       "      <td>Spain</td>\n",
       "      <td>Group Phase</td>\n",
       "      <td>2018</td>\n",
       "      <td>3</td>\n",
       "      <td>3</td>\n",
       "      <td>4.0</td>\n",
       "      <td>1274.0</td>\n",
       "      <td>10.0</td>\n",
       "      <td>1126.0</td>\n",
       "      <td>0</td>\n",
       "    </tr>\n",
       "    <tr>\n",
       "      <th>4</th>\n",
       "      <td>France</td>\n",
       "      <td>Australia</td>\n",
       "      <td>Group Phase</td>\n",
       "      <td>2018</td>\n",
       "      <td>2</td>\n",
       "      <td>1</td>\n",
       "      <td>7.0</td>\n",
       "      <td>1198.0</td>\n",
       "      <td>36.0</td>\n",
       "      <td>718.0</td>\n",
       "      <td>1</td>\n",
       "    </tr>\n",
       "  </tbody>\n",
       "</table>\n",
       "</div>"
      ],
      "text/plain": [
       "      Team1         Team2       Rounds  Year  Score1  Score2  Ranking T1  \\\n",
       "0    Russia  Saudi Arabia  Group Phase  2018       5       0        70.0   \n",
       "1     Egypt       Uruguay  Group Phase  2018       0       1        45.0   \n",
       "2   Morocco       IR Iran  Group Phase  2018       0       1        41.0   \n",
       "3  Portugal         Spain  Group Phase  2018       3       3         4.0   \n",
       "4    France     Australia  Group Phase  2018       2       1         7.0   \n",
       "\n",
       "   Score T1  Ranking T2  Score T2  Winner  \n",
       "0     457.0        67.0     465.0       1  \n",
       "1     649.0        14.0    1018.0       2  \n",
       "2     686.0        37.0     708.0       2  \n",
       "3    1274.0        10.0    1126.0       0  \n",
       "4    1198.0        36.0     718.0       1  "
      ]
     },
     "execution_count": 5,
     "metadata": {},
     "output_type": "execute_result"
    }
   ],
   "source": [
    "data.head()"
   ]
  },
  {
   "cell_type": "code",
   "execution_count": 6,
   "metadata": {},
   "outputs": [
    {
     "data": {
      "text/plain": [
       "Index(['Team1', 'Team2', 'Rounds', 'Year', 'Score1', 'Score2', 'Ranking T1',\n",
       "       'Score T1', 'Ranking T2', 'Score T2', 'Winner'],\n",
       "      dtype='object')"
      ]
     },
     "execution_count": 6,
     "metadata": {},
     "output_type": "execute_result"
    }
   ],
   "source": [
    "data.columns"
   ]
  },
  {
   "cell_type": "code",
   "execution_count": 5,
   "metadata": {},
   "outputs": [],
   "source": [
    "testInd = np.array(data.loc[data.Year == 2018].index)"
   ]
  },
  {
   "cell_type": "code",
   "execution_count": 6,
   "metadata": {},
   "outputs": [],
   "source": [
    "trainInd = list(np.array(data.loc[data.Year == 2014].index)) + list(np.array(data.loc[data.Year == 2010].index)) + list(np.array(data.loc[data.Year == 2006].index)) + list(np.array(data.loc[data.Year == 2002].index)) # + list(np.array(data.loc[data.Year == 1998].index)) + list(np.array(data.loc[data.Year == 1994].index))"
   ]
  },
  {
   "cell_type": "code",
   "execution_count": 7,
   "metadata": {},
   "outputs": [],
   "source": [
    "train = data.iloc[trainInd]\n",
    "test = data.iloc[testInd]"
   ]
  },
  {
   "cell_type": "code",
   "execution_count": 8,
   "metadata": {},
   "outputs": [
    {
     "data": {
      "text/plain": [
       "64"
      ]
     },
     "execution_count": 8,
     "metadata": {},
     "output_type": "execute_result"
    }
   ],
   "source": [
    "len(test)"
   ]
  },
  {
   "cell_type": "code",
   "execution_count": 9,
   "metadata": {},
   "outputs": [
    {
     "data": {
      "text/plain": [
       "256"
      ]
     },
     "execution_count": 9,
     "metadata": {},
     "output_type": "execute_result"
    }
   ],
   "source": [
    "len(train)"
   ]
  },
  {
   "cell_type": "code",
   "execution_count": 10,
   "metadata": {},
   "outputs": [],
   "source": [
    "trainCountries = set(train.Team1).union(set(train.Team2))"
   ]
  },
  {
   "cell_type": "code",
   "execution_count": 11,
   "metadata": {},
   "outputs": [
    {
     "data": {
      "text/plain": [
       "{'Algeria',\n",
       " 'Angola',\n",
       " 'Argentina',\n",
       " 'Australia',\n",
       " 'Belgium',\n",
       " 'Bosnia and Herzegovina',\n",
       " 'Brazil',\n",
       " 'Cameroon',\n",
       " 'Chile',\n",
       " 'China PR',\n",
       " 'Colombia',\n",
       " 'Costa Rica',\n",
       " 'Croatia',\n",
       " 'Czech Republic',\n",
       " \"Côte d'Ivoire\",\n",
       " 'Denmark',\n",
       " 'Ecuador',\n",
       " 'England',\n",
       " 'France',\n",
       " 'Germany',\n",
       " 'Ghana',\n",
       " 'Greece',\n",
       " 'Honduras',\n",
       " 'IR Iran',\n",
       " 'Italy',\n",
       " 'Japan',\n",
       " 'Korea DPR',\n",
       " 'Korea Republic',\n",
       " 'Mexico',\n",
       " 'Netherlands',\n",
       " 'New Zealand',\n",
       " 'Nigeria',\n",
       " 'Paraguay',\n",
       " 'Poland',\n",
       " 'Portugal',\n",
       " 'Republic of Ireland',\n",
       " 'Russia',\n",
       " 'Saudi Arabia',\n",
       " 'Senegal',\n",
       " 'Serbia',\n",
       " 'Serbia and Montenegro',\n",
       " 'Slovakia',\n",
       " 'Slovenia',\n",
       " 'South Africa',\n",
       " 'Spain',\n",
       " 'Sweden',\n",
       " 'Switzerland',\n",
       " 'Togo',\n",
       " 'Trinidad and Tobago',\n",
       " 'Tunisia',\n",
       " 'Turkey',\n",
       " 'USA',\n",
       " 'Ukraine',\n",
       " 'Uruguay'}"
      ]
     },
     "execution_count": 11,
     "metadata": {},
     "output_type": "execute_result"
    }
   ],
   "source": [
    "trainCountries"
   ]
  },
  {
   "cell_type": "code",
   "execution_count": 12,
   "metadata": {},
   "outputs": [],
   "source": [
    "testCountries = set(test.Team1).union(set(test.Team2))"
   ]
  },
  {
   "cell_type": "code",
   "execution_count": 13,
   "metadata": {},
   "outputs": [
    {
     "data": {
      "text/plain": [
       "{'Egypt', 'Iceland', 'Morocco', 'Panama', 'Peru'}"
      ]
     },
     "execution_count": 13,
     "metadata": {},
     "output_type": "execute_result"
    }
   ],
   "source": [
    "testCountries-trainCountries"
   ]
  },
  {
   "cell_type": "markdown",
   "metadata": {},
   "source": [
    "## Population\n",
    "https://ourworldindata.org/world-population-growth  \n",
    "http://worldpopulationreview.com/countries/\n",
    "\n",
    "http://world.bymap.org/LandArea.html"
   ]
  },
  {
   "cell_type": "markdown",
   "metadata": {},
   "source": [
    "Korea Republic = South Korea  \n",
    "England = United Kingdom  \n",
    "Serbia + Montenegro = Serbia and Montenegro (to be verified)  \n",
    "Korea DPR = North Korea"
   ]
  },
  {
   "cell_type": "code",
   "execution_count": 14,
   "metadata": {},
   "outputs": [],
   "source": [
    "population_2002_2006_2010_2014_2018 = {'Algeria':[32e6,33.78e6,36.12e6,39.11e6,42.00e6],\n",
    "                                  'Angola':[17.57e6,20.26e6,23.37e6,26.92e6,30.77e6],\n",
    "                                  'Argentina':[37.89e6,39.56e6,41.22e6,42.98e6,44.68e6],\n",
    "                                  'Australia':[19.48e6,20.57e6,22.12e6,23.47e6,24.77e6],\n",
    "                                  'Belgium':[10.36e6,10.62e6,10.94e6,11.22e6,11.49e6],\n",
    "                                  'Bosnia and Herzegovina':[3.78e6,3.78e6,3.72e6,3.57e6,3.50e6],\n",
    "                                  'Brazil':[180.15e6,189.01e6,196.8e6,204.21e6,210.86e6],\n",
    "                                  'Cameroon':[16.08e6,17.9e6,19.97e6,22.24e6,24.67e6],\n",
    "                                  'Chile':[15.62e6,16.32e6,16.99e6,17.61e6,18.19e6],\n",
    "                                  'China PR':[1.3e9,1.33e9,1.36e9,1.39e9,1.41e9],\n",
    "                                  'Colombia':[41.57e6,43.84e6,45.92e6,47.79e6,49.46e6],\n",
    "                                  'Costa Rica':[4.06e6,4.31e6,4.55e6,4.76e6,4.95e6],\n",
    "                                  'Croatia':[4.4e6,4.37e6,4.33e6,4.26e6,4.16e6],\n",
    "                                  'Czech Republic':[10.25e6,10.3e6,10.54e6,10.6e6,10.62e6],\n",
    "                                  'Côte d\\'Ivoire':[17.37e6,18.7e6,20.4e6,22.53e6,24.90e6],\n",
    "                                  'Denmark':[5.37e6,5.44e6,5.55e6,5.66e6,5.75e6],\n",
    "                                  'Ecuador':[13.07e6,13.97e6,14.93e6,15.9e6,16.86e6],\n",
    "                                  'Egypt':[72.59e6,78.16e6,84.11e6,91.81e6,99.37e6],\n",
    "                                  'England':[59.35e6,60.8e6,63.31e6,65.02e6,66.57e6],\n",
    "                                  'France':[60.23e6,61.59e6,63.03e6,64.19e6,65.23e6],\n",
    "                                  'Germany':[81.61e6,81.54e6,80.89e6,81.49e6,82.29e6],\n",
    "                                  'Ghana':[19.92e6,22.11e6,24.51e6,26.96e6,29.46e6],\n",
    "                                  'Greece':[11.22e6,11.34e6,11.45e6,11.26e6,11.14e6],\n",
    "                                  'Honduras':[6.86e6,7.54e6,8.19e6,8.81e6,9.41e6],\n",
    "                                  'Iceland':[285329,299728,320328,328459,337780],\n",
    "                                  'IR Iran':[67.98e6,71.23e6,74.57e6,78.41e6,82.01e6],\n",
    "                                  'Italy':[57.8e6,59.08e6,59.73e6,59.59e6,59.29e6],\n",
    "                                  'Japan':[127.9e6,128.43e6,128.55e6,128.16e6,127.18e6],\n",
    "                                  'Korea Republic':[48e6,48.9e6,49.55e6,50.39e6,51.16e6],\n",
    "                                  'Korea DPR':[23.34e6,24.06e6,24.59e6,25.12e6,25.61e6],\n",
    "                                  'Mexico':[104.36e6,110.09e6,117.32e6,124.22e6,130.75e6],\n",
    "                                  'Morocco':[29.51e6,30.87e6,32.41e6,34.32e6,36.19e6],\n",
    "                                  'Netherlands':[16.11e6,16.44e6,16.68e6,16.89e6,17.08e6],\n",
    "                                  'New Zealand':[3.96e6,4.19e6,4.37e6,4.57e6,4.74e6],\n",
    "                                  'Nigeria':[128.67e6,142.61e6,162.88e6,176.46e6,195.87e6],\n",
    "                                  'Panama':[3.15e6,3.39e6,3.64e6,3.9e6,4.16e6],\n",
    "                                  'Paraguay':[5.51e6,5.88e6,6.21e6,6.55e6,6.89e6],\n",
    "                                  'Peru':[26.6e6,27.95e6,29.37e6,30.97e6,32.55e6],\n",
    "                                  'Poland':[38.48e6,38.34e6,38.32e6,38.29e6,38.10e6],\n",
    "                                  'Portugal':[10.44e6,10.6e6,10.65e6,10.47e6,10.29e6],\n",
    "                                  'Republic of Ireland':[3.98e6,4.3e6,4.63e6,4.69e6,4.8e6],\n",
    "                                  'Russia':[145.19e6,143.32e6,143.15e6,143.76e6,143.96e6],\n",
    "                                  'Saudi Arabia':[21.91e6,24.58e6,27.43e6,30.78e6,33.55e6],\n",
    "                                  'Senegal':[10.4e6,11.56e6,12.92e6,14.55e6,16.29e6],\n",
    "                                  'Serbia':[7.50e6,7.41e6,7.29e6,7.13e6,8.76e6],\n",
    "                                  'Slovakia':[5.4e6,5.4e6,5.4e6,5.43e6,5.44e6],\n",
    "                                  'Montenegro':[613382,617832,624285,627674,629219],\n",
    "                                  'Serbia and Montenegro':[8.11e6,8.02e6,7.91e6,7.75e6,9.38e6],\n",
    "                                  'Slovenia':[1.99e6,2e6,2.05e6,2.07e6,2.08e6],\n",
    "                                  'South Africa':[47.03e6,49.36e6,51.58e6,54.54e6,57.39e6],\n",
    "                                  'Spain':[41.99e6,44.73e6,46.79e6,46.52e6,46.39e6],\n",
    "                                  'Sweden':[8.92e6,9.1e6,9.39e6,9.69e6,9.98e6],\n",
    "                                  'Switzerland':[7.24e6,7.48e6,7.83e6,8.23e6,8.54e6],\n",
    "                                  'Togo':[5.25e6,5.84e6,6.5e6,7.23e6,7.99e6],\n",
    "                                  'Trinidad and Tobago':[1.28e6,1.3e6,1.33e6,1.35e6,1.37e6],\n",
    "                                  'Tunisia':[9.86e6,10.2e6,10.64e6,11.14e6,11.65e6],\n",
    "                                  'Turkey':[65.14e6,68.76e6,72.33e6,77.03e6,81.91e6],\n",
    "                                  'USA':[287.51e6,297.83e6,308.64e6,317.72e6,326.76e6],\n",
    "                                  'Ukraine':[47.98e6,46.62e6,45.79e6,44.88e6,44.00e6],\n",
    "                                  'Uruguay':[3.33e6,3.33e6,3.37e6,3.42e6,3.46e6]}"
   ]
  },
  {
   "cell_type": "code",
   "execution_count": 15,
   "metadata": {},
   "outputs": [],
   "source": [
    "countries_area_km_square = {'Algeria':2381741,\n",
    "                  'Angola':1246700,\n",
    "                  'Argentina':2736690,\n",
    "                  'Australia':7682300,\n",
    "                  'Belgium':30278,\n",
    "                  'Bosnia and Herzegovina':51187,\n",
    "                  'Brazil':8358140,\n",
    "                  'Cameroon':472710,\n",
    "                  'China PR':9326410,\n",
    "                  'Chile':743812,\n",
    "                  'Colombia':1038700,\n",
    "                  'Costa Rica':51060,\n",
    "                  'Croatia':55974,\n",
    "                  'Czech Republic':77247,\n",
    "                  'Côte d\\'Ivoire':318003,\n",
    "                  'Denmark':42434,\n",
    "                  'Ecuador':276841,\n",
    "                  'Egypt':995450,\n",
    "                  'England':241930,\n",
    "                  'France':549970,\n",
    "                  'Germany':348672,\n",
    "                  'Ghana':227533,\n",
    "                  'Greece':130647,\n",
    "                  'Honduras':111890,\n",
    "                  'Iceland':100250,\n",
    "                  'IR Iran':1531595,\n",
    "                  'Italy':294140,\n",
    "                  'Japan':364485,\n",
    "                  'Korea DPR':120408,\n",
    "                  'Korea Republic':96920,\n",
    "                  'Mexico':1943945,\n",
    "                  'Morocco':446300,\n",
    "                  'Netherlands':33893,\n",
    "                  'New Zealand':264537,\n",
    "                  'Nigeria':910768,\n",
    "                  'Panama':74340,\n",
    "                  'Paraguay':397302,\n",
    "                  'Peru':1279996,\n",
    "                  'Poland':304255,\n",
    "                  'Portugal':91470,\n",
    "                  'Republic of Ireland':68883,\n",
    "                  'Russia':16377742,\n",
    "                  'Saudi Arabia':2149690,\n",
    "                  'Senegal':192530,\n",
    "                  'Serbia':77474,\n",
    "                  'Slovakia':48105,\n",
    "                  'Montenegro':13452,\n",
    "                  'Serbia and Montenegro':77474+13452,\n",
    "                  'Slovenia':20151,\n",
    "                  'South Africa':1214470,\n",
    "                  'Spain':498980,\n",
    "                  'Sweden':410335,\n",
    "                  'Switzerland':39997,\n",
    "                  'Togo':54385,\n",
    "                  'Trinidad and Tobago':5128,\n",
    "                  'Tunisia':155360,\n",
    "                  'Turkey':769632,\n",
    "                  'USA':9147593,\n",
    "                  'Ukraine':579330,\n",
    "                  'Uruguay':175015}"
   ]
  },
  {
   "cell_type": "code",
   "execution_count": null,
   "metadata": {},
   "outputs": [],
   "source": []
  },
  {
   "cell_type": "code",
   "execution_count": 16,
   "metadata": {},
   "outputs": [
    {
     "data": {
      "text/html": [
       "<div>\n",
       "<style scoped>\n",
       "    .dataframe tbody tr th:only-of-type {\n",
       "        vertical-align: middle;\n",
       "    }\n",
       "\n",
       "    .dataframe tbody tr th {\n",
       "        vertical-align: top;\n",
       "    }\n",
       "\n",
       "    .dataframe thead th {\n",
       "        text-align: right;\n",
       "    }\n",
       "</style>\n",
       "<table border=\"1\" class=\"dataframe\">\n",
       "  <thead>\n",
       "    <tr style=\"text-align: right;\">\n",
       "      <th></th>\n",
       "      <th>Team1</th>\n",
       "      <th>Team2</th>\n",
       "      <th>Rounds</th>\n",
       "      <th>Year</th>\n",
       "      <th>Score1</th>\n",
       "      <th>Score2</th>\n",
       "      <th>Ranking T1</th>\n",
       "      <th>Score T1</th>\n",
       "      <th>Ranking T2</th>\n",
       "      <th>Score T2</th>\n",
       "      <th>Winner</th>\n",
       "    </tr>\n",
       "  </thead>\n",
       "  <tbody>\n",
       "    <tr>\n",
       "      <th>64</th>\n",
       "      <td>Brazil</td>\n",
       "      <td>Croatia</td>\n",
       "      <td>Group Phase</td>\n",
       "      <td>2014</td>\n",
       "      <td>3</td>\n",
       "      <td>1</td>\n",
       "      <td>3.0</td>\n",
       "      <td>1242.0</td>\n",
       "      <td>18.0</td>\n",
       "      <td>903.0</td>\n",
       "      <td>1</td>\n",
       "    </tr>\n",
       "    <tr>\n",
       "      <th>65</th>\n",
       "      <td>Mexico</td>\n",
       "      <td>Cameroon</td>\n",
       "      <td>Group Phase</td>\n",
       "      <td>2014</td>\n",
       "      <td>1</td>\n",
       "      <td>0</td>\n",
       "      <td>20.0</td>\n",
       "      <td>882.0</td>\n",
       "      <td>56.0</td>\n",
       "      <td>558.0</td>\n",
       "      <td>1</td>\n",
       "    </tr>\n",
       "    <tr>\n",
       "      <th>66</th>\n",
       "      <td>Spain</td>\n",
       "      <td>Netherlands</td>\n",
       "      <td>Group Phase</td>\n",
       "      <td>2014</td>\n",
       "      <td>1</td>\n",
       "      <td>5</td>\n",
       "      <td>1.0</td>\n",
       "      <td>1485.0</td>\n",
       "      <td>15.0</td>\n",
       "      <td>981.0</td>\n",
       "      <td>2</td>\n",
       "    </tr>\n",
       "    <tr>\n",
       "      <th>67</th>\n",
       "      <td>Chile</td>\n",
       "      <td>Australia</td>\n",
       "      <td>Group Phase</td>\n",
       "      <td>2014</td>\n",
       "      <td>3</td>\n",
       "      <td>1</td>\n",
       "      <td>14.0</td>\n",
       "      <td>1026.0</td>\n",
       "      <td>62.0</td>\n",
       "      <td>526.0</td>\n",
       "      <td>1</td>\n",
       "    </tr>\n",
       "    <tr>\n",
       "      <th>68</th>\n",
       "      <td>Colombia</td>\n",
       "      <td>Greece</td>\n",
       "      <td>Group Phase</td>\n",
       "      <td>2014</td>\n",
       "      <td>3</td>\n",
       "      <td>0</td>\n",
       "      <td>8.0</td>\n",
       "      <td>1137.0</td>\n",
       "      <td>12.0</td>\n",
       "      <td>1064.0</td>\n",
       "      <td>1</td>\n",
       "    </tr>\n",
       "  </tbody>\n",
       "</table>\n",
       "</div>"
      ],
      "text/plain": [
       "       Team1        Team2       Rounds  Year  Score1  Score2  Ranking T1  \\\n",
       "64    Brazil      Croatia  Group Phase  2014       3       1         3.0   \n",
       "65    Mexico     Cameroon  Group Phase  2014       1       0        20.0   \n",
       "66     Spain  Netherlands  Group Phase  2014       1       5         1.0   \n",
       "67     Chile    Australia  Group Phase  2014       3       1        14.0   \n",
       "68  Colombia       Greece  Group Phase  2014       3       0         8.0   \n",
       "\n",
       "    Score T1  Ranking T2  Score T2  Winner  \n",
       "64    1242.0        18.0     903.0       1  \n",
       "65     882.0        56.0     558.0       1  \n",
       "66    1485.0        15.0     981.0       2  \n",
       "67    1026.0        62.0     526.0       1  \n",
       "68    1137.0        12.0    1064.0       1  "
      ]
     },
     "execution_count": 16,
     "metadata": {},
     "output_type": "execute_result"
    }
   ],
   "source": [
    "train.head()"
   ]
  },
  {
   "cell_type": "code",
   "execution_count": 17,
   "metadata": {},
   "outputs": [
    {
     "data": {
      "text/plain": [
       "256"
      ]
     },
     "execution_count": 17,
     "metadata": {},
     "output_type": "execute_result"
    }
   ],
   "source": [
    "len(train)"
   ]
  },
  {
   "cell_type": "code",
   "execution_count": 18,
   "metadata": {},
   "outputs": [],
   "source": [
    "train2 = train[['Team2', 'Team1', 'Rounds', 'Year', 'Score2', 'Score1', 'Ranking T2', 'Score T2', 'Ranking T1', 'Score T1', 'Winner']]\n",
    "train2.columns = ['Team1', 'Team2', 'Rounds', 'Year', 'Score1', 'Score2', 'Ranking T1', 'Score T1', 'Ranking T2', 'Score T2', 'Winner']\n",
    "train = train.append(train2, ignore_index=True)"
   ]
  },
  {
   "cell_type": "code",
   "execution_count": null,
   "metadata": {},
   "outputs": [],
   "source": [
    "sumScore = []\n",
    "for i in range(len(train)):\n",
    "    sumScore = train['Score1'] + train['Score2']\n",
    "train['Sum Scores'] = sumScore"
   ]
  },
  {
   "cell_type": "code",
   "execution_count": null,
   "metadata": {},
   "outputs": [
    {
     "data": {
      "text/html": [
       "<div>\n",
       "<style scoped>\n",
       "    .dataframe tbody tr th:only-of-type {\n",
       "        vertical-align: middle;\n",
       "    }\n",
       "\n",
       "    .dataframe tbody tr th {\n",
       "        vertical-align: top;\n",
       "    }\n",
       "\n",
       "    .dataframe thead th {\n",
       "        text-align: right;\n",
       "    }\n",
       "</style>\n",
       "<table border=\"1\" class=\"dataframe\">\n",
       "  <thead>\n",
       "    <tr style=\"text-align: right;\">\n",
       "      <th></th>\n",
       "      <th>Team1</th>\n",
       "      <th>Team2</th>\n",
       "      <th>Rounds</th>\n",
       "      <th>Year</th>\n",
       "      <th>Score1</th>\n",
       "      <th>Score2</th>\n",
       "      <th>Ranking T1</th>\n",
       "      <th>Score T1</th>\n",
       "      <th>Ranking T2</th>\n",
       "      <th>Score T2</th>\n",
       "      <th>Winner</th>\n",
       "      <th>Sum Scores</th>\n",
       "    </tr>\n",
       "  </thead>\n",
       "  <tbody>\n",
       "    <tr>\n",
       "      <th>0</th>\n",
       "      <td>Brazil</td>\n",
       "      <td>Croatia</td>\n",
       "      <td>Group Phase</td>\n",
       "      <td>2014</td>\n",
       "      <td>3</td>\n",
       "      <td>1</td>\n",
       "      <td>3.0</td>\n",
       "      <td>1242.0</td>\n",
       "      <td>18.0</td>\n",
       "      <td>903.0</td>\n",
       "      <td>1</td>\n",
       "      <td>4</td>\n",
       "    </tr>\n",
       "    <tr>\n",
       "      <th>1</th>\n",
       "      <td>Mexico</td>\n",
       "      <td>Cameroon</td>\n",
       "      <td>Group Phase</td>\n",
       "      <td>2014</td>\n",
       "      <td>1</td>\n",
       "      <td>0</td>\n",
       "      <td>20.0</td>\n",
       "      <td>882.0</td>\n",
       "      <td>56.0</td>\n",
       "      <td>558.0</td>\n",
       "      <td>1</td>\n",
       "      <td>1</td>\n",
       "    </tr>\n",
       "    <tr>\n",
       "      <th>2</th>\n",
       "      <td>Spain</td>\n",
       "      <td>Netherlands</td>\n",
       "      <td>Group Phase</td>\n",
       "      <td>2014</td>\n",
       "      <td>1</td>\n",
       "      <td>5</td>\n",
       "      <td>1.0</td>\n",
       "      <td>1485.0</td>\n",
       "      <td>15.0</td>\n",
       "      <td>981.0</td>\n",
       "      <td>2</td>\n",
       "      <td>6</td>\n",
       "    </tr>\n",
       "    <tr>\n",
       "      <th>3</th>\n",
       "      <td>Chile</td>\n",
       "      <td>Australia</td>\n",
       "      <td>Group Phase</td>\n",
       "      <td>2014</td>\n",
       "      <td>3</td>\n",
       "      <td>1</td>\n",
       "      <td>14.0</td>\n",
       "      <td>1026.0</td>\n",
       "      <td>62.0</td>\n",
       "      <td>526.0</td>\n",
       "      <td>1</td>\n",
       "      <td>4</td>\n",
       "    </tr>\n",
       "    <tr>\n",
       "      <th>4</th>\n",
       "      <td>Colombia</td>\n",
       "      <td>Greece</td>\n",
       "      <td>Group Phase</td>\n",
       "      <td>2014</td>\n",
       "      <td>3</td>\n",
       "      <td>0</td>\n",
       "      <td>8.0</td>\n",
       "      <td>1137.0</td>\n",
       "      <td>12.0</td>\n",
       "      <td>1064.0</td>\n",
       "      <td>1</td>\n",
       "      <td>3</td>\n",
       "    </tr>\n",
       "  </tbody>\n",
       "</table>\n",
       "</div>"
      ],
      "text/plain": [
       "      Team1        Team2       Rounds  Year  Score1  Score2  Ranking T1  \\\n",
       "0    Brazil      Croatia  Group Phase  2014       3       1         3.0   \n",
       "1    Mexico     Cameroon  Group Phase  2014       1       0        20.0   \n",
       "2     Spain  Netherlands  Group Phase  2014       1       5         1.0   \n",
       "3     Chile    Australia  Group Phase  2014       3       1        14.0   \n",
       "4  Colombia       Greece  Group Phase  2014       3       0         8.0   \n",
       "\n",
       "   Score T1  Ranking T2  Score T2  Winner  Sum Scores  \n",
       "0    1242.0        18.0     903.0       1           4  \n",
       "1     882.0        56.0     558.0       1           1  \n",
       "2    1485.0        15.0     981.0       2           6  \n",
       "3    1026.0        62.0     526.0       1           4  \n",
       "4    1137.0        12.0    1064.0       1           3  "
      ]
     },
     "execution_count": 20,
     "metadata": {},
     "output_type": "execute_result"
    }
   ],
   "source": [
    "train.head()"
   ]
  },
  {
   "cell_type": "code",
   "execution_count": null,
   "metadata": {},
   "outputs": [],
   "source": [
    "# train.iloc[[256,257,258]]"
   ]
  },
  {
   "cell_type": "code",
   "execution_count": null,
   "metadata": {},
   "outputs": [],
   "source": [
    "train = train.drop(['Team2','Score2','Ranking T2', 'Score T2', 'Winner'],axis=1)\n",
    "train.columns = ['Team','Rounds','Year','Score','FIFA Ranking','FIFA Score','Sum Scores']"
   ]
  },
  {
   "cell_type": "code",
   "execution_count": null,
   "metadata": {},
   "outputs": [
    {
     "data": {
      "text/html": [
       "<div>\n",
       "<style scoped>\n",
       "    .dataframe tbody tr th:only-of-type {\n",
       "        vertical-align: middle;\n",
       "    }\n",
       "\n",
       "    .dataframe tbody tr th {\n",
       "        vertical-align: top;\n",
       "    }\n",
       "\n",
       "    .dataframe thead th {\n",
       "        text-align: right;\n",
       "    }\n",
       "</style>\n",
       "<table border=\"1\" class=\"dataframe\">\n",
       "  <thead>\n",
       "    <tr style=\"text-align: right;\">\n",
       "      <th></th>\n",
       "      <th>Team</th>\n",
       "      <th>Rounds</th>\n",
       "      <th>Year</th>\n",
       "      <th>Score</th>\n",
       "      <th>FIFA Ranking</th>\n",
       "      <th>FIFA Score</th>\n",
       "      <th>Sum Scores</th>\n",
       "    </tr>\n",
       "  </thead>\n",
       "  <tbody>\n",
       "    <tr>\n",
       "      <th>0</th>\n",
       "      <td>Brazil</td>\n",
       "      <td>Group Phase</td>\n",
       "      <td>2014</td>\n",
       "      <td>3</td>\n",
       "      <td>3.0</td>\n",
       "      <td>1242.0</td>\n",
       "      <td>4</td>\n",
       "    </tr>\n",
       "    <tr>\n",
       "      <th>1</th>\n",
       "      <td>Mexico</td>\n",
       "      <td>Group Phase</td>\n",
       "      <td>2014</td>\n",
       "      <td>1</td>\n",
       "      <td>20.0</td>\n",
       "      <td>882.0</td>\n",
       "      <td>1</td>\n",
       "    </tr>\n",
       "    <tr>\n",
       "      <th>2</th>\n",
       "      <td>Spain</td>\n",
       "      <td>Group Phase</td>\n",
       "      <td>2014</td>\n",
       "      <td>1</td>\n",
       "      <td>1.0</td>\n",
       "      <td>1485.0</td>\n",
       "      <td>6</td>\n",
       "    </tr>\n",
       "    <tr>\n",
       "      <th>3</th>\n",
       "      <td>Chile</td>\n",
       "      <td>Group Phase</td>\n",
       "      <td>2014</td>\n",
       "      <td>3</td>\n",
       "      <td>14.0</td>\n",
       "      <td>1026.0</td>\n",
       "      <td>4</td>\n",
       "    </tr>\n",
       "    <tr>\n",
       "      <th>4</th>\n",
       "      <td>Colombia</td>\n",
       "      <td>Group Phase</td>\n",
       "      <td>2014</td>\n",
       "      <td>3</td>\n",
       "      <td>8.0</td>\n",
       "      <td>1137.0</td>\n",
       "      <td>3</td>\n",
       "    </tr>\n",
       "  </tbody>\n",
       "</table>\n",
       "</div>"
      ],
      "text/plain": [
       "       Team       Rounds  Year  Score  FIFA Ranking  FIFA Score  Sum Scores\n",
       "0    Brazil  Group Phase  2014      3           3.0      1242.0           4\n",
       "1    Mexico  Group Phase  2014      1          20.0       882.0           1\n",
       "2     Spain  Group Phase  2014      1           1.0      1485.0           6\n",
       "3     Chile  Group Phase  2014      3          14.0      1026.0           4\n",
       "4  Colombia  Group Phase  2014      3           8.0      1137.0           3"
      ]
     },
     "execution_count": 23,
     "metadata": {},
     "output_type": "execute_result"
    }
   ],
   "source": [
    "train.head()"
   ]
  },
  {
   "cell_type": "code",
   "execution_count": null,
   "metadata": {},
   "outputs": [],
   "source": [
    "ytrain = (train['Score']/train['Sum Scores']).fillna(0)"
   ]
  },
  {
   "cell_type": "code",
   "execution_count": null,
   "metadata": {},
   "outputs": [],
   "source": [
    "test2 = test[['Team2', 'Team1', 'Rounds', 'Year', 'Score2', 'Score1', 'Ranking T2', 'Score T2', 'Ranking T1', 'Score T1', 'Winner']]\n",
    "test2.columns = ['Team1', 'Team2', 'Rounds', 'Year', 'Score1', 'Score2', 'Ranking T1', 'Score T1', 'Ranking T2', 'Score T2', 'Winner']\n",
    "test = test.append(test2, ignore_index=True)\n",
    "\n",
    "sumScore = []\n",
    "for i in range(len(test)):\n",
    "    sumScore = test['Score1'] + test['Score2']\n",
    "test['Sum Scores'] = sumScore\n",
    "\n",
    "test = test.drop(['Team2','Score2','Ranking T2', 'Score T2', 'Winner'],axis=1)\n",
    "test.columns = ['Team','Rounds','Year','Score','FIFA Ranking','FIFA Score','Sum Scores']"
   ]
  },
  {
   "cell_type": "code",
   "execution_count": null,
   "metadata": {},
   "outputs": [],
   "source": [
    "indPop = {2002:0,2006:1,2010:2,2014:3,2018:4}\n",
    "\n",
    "popTrain = []\n",
    "for i in range(len(train)):\n",
    "    popTrain.append(population_2002_2006_2010_2014_2018[train['Team'][i]][indPop[train['Year'][i]]])\n",
    "    \n",
    "train['Population'] = popTrain"
   ]
  },
  {
   "cell_type": "code",
   "execution_count": null,
   "metadata": {},
   "outputs": [],
   "source": [
    "surTrain = []\n",
    "for i in range(len(train)):\n",
    "    surTrain.append(countries_area_km_square[train['Team'][i]])\n",
    "    \n",
    "train['Surface'] = surTrain"
   ]
  },
  {
   "cell_type": "code",
   "execution_count": null,
   "metadata": {},
   "outputs": [],
   "source": [
    "popTest = []\n",
    "for i in range(len(test)):\n",
    "    popTest.append(population_2002_2006_2010_2014_2018[test['Team'][i]][indPop[test['Year'][i]]])\n",
    "    \n",
    "test['Population'] = popTest"
   ]
  },
  {
   "cell_type": "code",
   "execution_count": null,
   "metadata": {},
   "outputs": [],
   "source": [
    "surTest = []\n",
    "for i in range(len(test)):\n",
    "    surTest.append(countries_area_km_square[test['Team'][i]])\n",
    "    \n",
    "test['Surface'] = surTest"
   ]
  },
  {
   "cell_type": "code",
   "execution_count": null,
   "metadata": {},
   "outputs": [],
   "source": [
    "rounds_encoded = {'Group Phase':1, 'Round of 16':2, 'Quarter Finals':3, 'Semi Finals':4,\n",
    "                  'Play-off for third place':5, 'Finals':6}"
   ]
  },
  {
   "cell_type": "code",
   "execution_count": null,
   "metadata": {},
   "outputs": [
    {
     "name": "stderr",
     "output_type": "stream",
     "text": [
      "C:\\Users\\ASUS\\Anaconda3\\envs\\python\\lib\\site-packages\\ipykernel_launcher.py:2: SettingWithCopyWarning: \n",
      "A value is trying to be set on a copy of a slice from a DataFrame\n",
      "\n",
      "See the caveats in the documentation: http://pandas.pydata.org/pandas-docs/stable/indexing.html#indexing-view-versus-copy\n",
      "  \n"
     ]
    }
   ],
   "source": [
    "for i in range(len(train)):\n",
    "    train.Rounds[i] = rounds_encoded[train.Rounds[i]]"
   ]
  },
  {
   "cell_type": "code",
   "execution_count": null,
   "metadata": {},
   "outputs": [
    {
     "name": "stderr",
     "output_type": "stream",
     "text": [
      "C:\\Users\\ASUS\\Anaconda3\\envs\\python\\lib\\site-packages\\ipykernel_launcher.py:2: SettingWithCopyWarning: \n",
      "A value is trying to be set on a copy of a slice from a DataFrame\n",
      "\n",
      "See the caveats in the documentation: http://pandas.pydata.org/pandas-docs/stable/indexing.html#indexing-view-versus-copy\n",
      "  \n"
     ]
    }
   ],
   "source": [
    "for i in range(len(test)):\n",
    "    test.Rounds[i] = rounds_encoded[test.Rounds[i]]"
   ]
  },
  {
   "cell_type": "code",
   "execution_count": null,
   "metadata": {},
   "outputs": [],
   "source": [
    "ytest = (test['Score']/test['Sum Scores']).fillna(0)"
   ]
  },
  {
   "cell_type": "code",
   "execution_count": null,
   "metadata": {},
   "outputs": [],
   "source": []
  },
  {
   "cell_type": "code",
   "execution_count": null,
   "metadata": {},
   "outputs": [],
   "source": [
    "Xtrain = train.drop(['Team','Year','Score','Sum Scores'],axis=1)"
   ]
  },
  {
   "cell_type": "code",
   "execution_count": null,
   "metadata": {},
   "outputs": [],
   "source": [
    "Xtest = test.drop(['Team','Year','Score','Sum Scores'],axis=1)"
   ]
  },
  {
   "cell_type": "code",
   "execution_count": null,
   "metadata": {},
   "outputs": [],
   "source": [
    "# Xtrain['Rounds'] = Xtrain['Rounds'].astype('category')\n",
    "Xtrain['Rounds'] = pd.Categorical(Xtrain['Rounds'], ordered=True)\n",
    "# Xtest['Rounds'] = Xtest['Rounds'].astype('category')\n",
    "Xtest['Rounds'] = pd.Categorical(Xtest['Rounds'], ordered=True)"
   ]
  },
  {
   "cell_type": "code",
   "execution_count": null,
   "metadata": {},
   "outputs": [],
   "source": [
    "maxSc = max(Xtrain['FIFA Score'])\n",
    "minSc = min(Xtrain['FIFA Score'])\n",
    "\n",
    "Xtrain['FIFA Score'] = (Xtrain['FIFA Score'] - minSc) / (maxSc - minSc)\n",
    "Xtest['FIFA Score'] = (Xtest['FIFA Score'] - minSc) / (maxSc - minSc)"
   ]
  },
  {
   "cell_type": "code",
   "execution_count": null,
   "metadata": {},
   "outputs": [],
   "source": [
    "maxSc = max(Xtrain['Population'])\n",
    "minSc = min(Xtrain['Population'])\n",
    "\n",
    "Xtrain['Population'] = (Xtrain['Population'] - minSc) / (maxSc - minSc)\n",
    "Xtest['Population'] = (Xtest['Population'] - minSc) / (maxSc - minSc)"
   ]
  },
  {
   "cell_type": "code",
   "execution_count": null,
   "metadata": {},
   "outputs": [],
   "source": [
    "maxSc = max(Xtrain['Surface'])\n",
    "minSc = min(Xtrain['Surface'])\n",
    "\n",
    "Xtrain['Surface'] = (Xtrain['Surface'] - minSc) / (maxSc - minSc)\n",
    "Xtest['Surface'] = (Xtest['Surface'] - minSc) / (maxSc - minSc)"
   ]
  },
  {
   "cell_type": "code",
   "execution_count": null,
   "metadata": {},
   "outputs": [],
   "source": [
    "Xtrain.head()"
   ]
  },
  {
   "cell_type": "code",
   "execution_count": null,
   "metadata": {},
   "outputs": [],
   "source": [
    "cat_type = CategoricalDtype(ordered=True)\n",
    "\n",
    "Xtrain['FIFA Ranking'] = Xtrain['FIFA Ranking'].astype(cat_type)\n",
    "Xtest['FIFA Ranking'] = Xtest['FIFA Ranking'].astype(cat_type)\n",
    "\n",
    "# Xtrain['FIFA Score'] = Xtrain['FIFA Score'].astype(cat_type)\n",
    "# Xtest['FIFA Score'] = Xtest['FIFA Score'].astype(cat_type)"
   ]
  },
  {
   "cell_type": "code",
   "execution_count": null,
   "metadata": {},
   "outputs": [],
   "source": [
    "from sklearn.linear_model import LinearRegression\n",
    "from sklearn.ensemble import RandomForestRegressor\n",
    "from sklearn.ensemble import AdaBoostRegressor\n",
    "# from sklearn.tree import DecisionTreeRegressor\n",
    "\n",
    "# model = LinearRegression()\n",
    "# model = RandomForestRegressor(max_depth=1000, random_state=0, n_estimators=100)\n",
    "model = AdaBoostRegressor(base_estimator = RandomForestRegressor(max_depth=100),n_estimators=50)\n",
    "\n",
    "model.fit(Xtrain, ytrain)"
   ]
  },
  {
   "cell_type": "code",
   "execution_count": null,
   "metadata": {},
   "outputs": [],
   "source": [
    "pred = model.predict(Xtest)"
   ]
  },
  {
   "cell_type": "code",
   "execution_count": null,
   "metadata": {},
   "outputs": [],
   "source": [
    "test.head()"
   ]
  },
  {
   "cell_type": "code",
   "execution_count": null,
   "metadata": {},
   "outputs": [],
   "source": [
    "data.head()"
   ]
  },
  {
   "cell_type": "code",
   "execution_count": null,
   "metadata": {},
   "outputs": [],
   "source": [
    "winner = []\n",
    "\n",
    "for i in range(len(pred)//2):\n",
    "    if pred[i] > pred[i+64]:\n",
    "        winner.append(1)\n",
    "    elif pred[i] == pred[i+64]:\n",
    "        winner.append(0)\n",
    "    else:\n",
    "        winner.append(2)"
   ]
  },
  {
   "cell_type": "code",
   "execution_count": null,
   "metadata": {},
   "outputs": [],
   "source": [
    "np.array(winner)"
   ]
  },
  {
   "cell_type": "code",
   "execution_count": null,
   "metadata": {},
   "outputs": [],
   "source": [
    "np.array(data.loc[data.Year == 2018]['Winner'])"
   ]
  },
  {
   "cell_type": "code",
   "execution_count": null,
   "metadata": {},
   "outputs": [],
   "source": [
    "ytest_true = data.loc[data.Year == 2018]['Winner']"
   ]
  },
  {
   "cell_type": "code",
   "execution_count": null,
   "metadata": {},
   "outputs": [],
   "source": [
    "sum(ytest_true == winner)/len(winner)*100"
   ]
  },
  {
   "cell_type": "code",
   "execution_count": null,
   "metadata": {},
   "outputs": [],
   "source": [
    "Xtest.head()"
   ]
  },
  {
   "cell_type": "code",
   "execution_count": null,
   "metadata": {},
   "outputs": [],
   "source": [
    "pred"
   ]
  },
  {
   "cell_type": "code",
   "execution_count": null,
   "metadata": {},
   "outputs": [],
   "source": [
    "Xtrain"
   ]
  },
  {
   "cell_type": "code",
   "execution_count": null,
   "metadata": {},
   "outputs": [],
   "source": []
  }
 ],
 "metadata": {
  "kernelspec": {
   "display_name": "Python 3",
   "language": "python",
   "name": "python3"
  },
  "language_info": {
   "codemirror_mode": {
    "name": "ipython",
    "version": 3
   },
   "file_extension": ".py",
   "mimetype": "text/x-python",
   "name": "python",
   "nbconvert_exporter": "python",
   "pygments_lexer": "ipython3",
   "version": "3.6.4"
  }
 },
 "nbformat": 4,
 "nbformat_minor": 2
}
