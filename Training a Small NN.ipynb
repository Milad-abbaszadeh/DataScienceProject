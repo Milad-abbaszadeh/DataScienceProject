{
 "cells": [
  {
   "cell_type": "code",
   "execution_count": 1,
   "metadata": {},
   "outputs": [
    {
     "name": "stderr",
     "output_type": "stream",
     "text": [
      "Using TensorFlow backend.\n"
     ]
    }
   ],
   "source": [
    "import pandas as pd\n",
    "from sklearn.model_selection import train_test_split\n",
    "from keras.models import Sequential\n",
    "from keras.layers import Dense\n",
    "\n",
    "from keras.utils import np_utils"
   ]
  },
  {
   "cell_type": "code",
   "execution_count": 2,
   "metadata": {},
   "outputs": [],
   "source": [
    "df = pd.read_csv(\"./FIFA 2006-2018 - Cleaned.csv\")"
   ]
  },
  {
   "cell_type": "code",
   "execution_count": 3,
   "metadata": {},
   "outputs": [
    {
     "data": {
      "text/html": [
       "<div>\n",
       "<style scoped>\n",
       "    .dataframe tbody tr th:only-of-type {\n",
       "        vertical-align: middle;\n",
       "    }\n",
       "\n",
       "    .dataframe tbody tr th {\n",
       "        vertical-align: top;\n",
       "    }\n",
       "\n",
       "    .dataframe thead th {\n",
       "        text-align: right;\n",
       "    }\n",
       "</style>\n",
       "<table border=\"1\" class=\"dataframe\">\n",
       "  <thead>\n",
       "    <tr style=\"text-align: right;\">\n",
       "      <th></th>\n",
       "      <th>Team1</th>\n",
       "      <th>Team2</th>\n",
       "      <th>Rounds</th>\n",
       "      <th>Stadium</th>\n",
       "      <th>City</th>\n",
       "      <th>Day</th>\n",
       "      <th>Month</th>\n",
       "      <th>Year</th>\n",
       "      <th>Score1</th>\n",
       "      <th>Score2</th>\n",
       "      <th>Remarks</th>\n",
       "    </tr>\n",
       "  </thead>\n",
       "  <tbody>\n",
       "    <tr>\n",
       "      <th>251</th>\n",
       "      <td>Brazil</td>\n",
       "      <td>France</td>\n",
       "      <td>Quarter Finals</td>\n",
       "      <td>FIFA World Cup Stadium, Frankfurt</td>\n",
       "      <td>Frankfurt/Main</td>\n",
       "      <td>1</td>\n",
       "      <td>7</td>\n",
       "      <td>2006</td>\n",
       "      <td>0</td>\n",
       "      <td>1</td>\n",
       "      <td>NaN</td>\n",
       "    </tr>\n",
       "    <tr>\n",
       "      <th>252</th>\n",
       "      <td>Germany</td>\n",
       "      <td>Italy</td>\n",
       "      <td>Semi Finals</td>\n",
       "      <td>FIFA World Cup Stadium, Dortmund</td>\n",
       "      <td>Dortmund</td>\n",
       "      <td>4</td>\n",
       "      <td>7</td>\n",
       "      <td>2006</td>\n",
       "      <td>0</td>\n",
       "      <td>2</td>\n",
       "      <td>Italy win after extra time</td>\n",
       "    </tr>\n",
       "    <tr>\n",
       "      <th>253</th>\n",
       "      <td>Portugal</td>\n",
       "      <td>France</td>\n",
       "      <td>Semi Finals</td>\n",
       "      <td>FIFA World Cup Stadium, Munich</td>\n",
       "      <td>Munich</td>\n",
       "      <td>5</td>\n",
       "      <td>7</td>\n",
       "      <td>2006</td>\n",
       "      <td>0</td>\n",
       "      <td>1</td>\n",
       "      <td>NaN</td>\n",
       "    </tr>\n",
       "    <tr>\n",
       "      <th>254</th>\n",
       "      <td>Germany</td>\n",
       "      <td>Portugal</td>\n",
       "      <td>Play-off for third place</td>\n",
       "      <td>Gottlieb-Daimler-Stadion</td>\n",
       "      <td>Stuttgart</td>\n",
       "      <td>8</td>\n",
       "      <td>7</td>\n",
       "      <td>2006</td>\n",
       "      <td>3</td>\n",
       "      <td>1</td>\n",
       "      <td>NaN</td>\n",
       "    </tr>\n",
       "    <tr>\n",
       "      <th>255</th>\n",
       "      <td>Italy</td>\n",
       "      <td>France</td>\n",
       "      <td>Finals</td>\n",
       "      <td>Olympiastadion</td>\n",
       "      <td>Berlin</td>\n",
       "      <td>9</td>\n",
       "      <td>7</td>\n",
       "      <td>2006</td>\n",
       "      <td>1</td>\n",
       "      <td>1</td>\n",
       "      <td>Italy win on penalties (5 - 3)</td>\n",
       "    </tr>\n",
       "  </tbody>\n",
       "</table>\n",
       "</div>"
      ],
      "text/plain": [
       "        Team1     Team2                    Rounds  \\\n",
       "251    Brazil    France            Quarter Finals   \n",
       "252   Germany     Italy               Semi Finals   \n",
       "253  Portugal    France               Semi Finals   \n",
       "254   Germany  Portugal  Play-off for third place   \n",
       "255     Italy    France                    Finals   \n",
       "\n",
       "                               Stadium            City  Day  Month  Year  \\\n",
       "251  FIFA World Cup Stadium, Frankfurt  Frankfurt/Main    1      7  2006   \n",
       "252   FIFA World Cup Stadium, Dortmund        Dortmund    4      7  2006   \n",
       "253     FIFA World Cup Stadium, Munich          Munich    5      7  2006   \n",
       "254           Gottlieb-Daimler-Stadion       Stuttgart    8      7  2006   \n",
       "255                     Olympiastadion          Berlin    9      7  2006   \n",
       "\n",
       "     Score1  Score2                         Remarks  \n",
       "251       0       1                             NaN  \n",
       "252       0       2      Italy win after extra time  \n",
       "253       0       1                             NaN  \n",
       "254       3       1                             NaN  \n",
       "255       1       1  Italy win on penalties (5 - 3)  "
      ]
     },
     "execution_count": 3,
     "metadata": {},
     "output_type": "execute_result"
    }
   ],
   "source": [
    "df.tail()"
   ]
  },
  {
   "cell_type": "code",
   "execution_count": 4,
   "metadata": {},
   "outputs": [],
   "source": [
    "df = df.drop([\"Remarks\",\"Stadium\",\"City\"],axis=1)"
   ]
  },
  {
   "cell_type": "code",
   "execution_count": 5,
   "metadata": {},
   "outputs": [],
   "source": [
    "countries = list(set(df[\"Team1\"]).union(set(df[\"Team2\"])))"
   ]
  },
  {
   "cell_type": "code",
   "execution_count": 6,
   "metadata": {},
   "outputs": [],
   "source": [
    "countries_dict = {}\n",
    "for i in range(len(countries)):\n",
    "    countries_dict[countries[i]] = i"
   ]
  },
  {
   "cell_type": "code",
   "execution_count": 7,
   "metadata": {},
   "outputs": [],
   "source": [
    "Team1_encoded = []\n",
    "Team2_encoded = []\n",
    "\n",
    "for i in range(len(df)):\n",
    "    Team1_encoded.append(countries_dict[list(df.Team1)[i]])\n",
    "    Team2_encoded.append(countries_dict[list(df.Team2)[i]])"
   ]
  },
  {
   "cell_type": "code",
   "execution_count": 8,
   "metadata": {},
   "outputs": [],
   "source": [
    "df[\"Team1\"] = Team1_encoded\n",
    "df[\"Team2\"] = Team2_encoded"
   ]
  },
  {
   "cell_type": "code",
   "execution_count": 9,
   "metadata": {},
   "outputs": [],
   "source": [
    "rounds = df.Rounds\n",
    "rounds.unique()\n",
    "rounds_dict = {\"Group Phase\":1, \"Round of 16\":2, \"Quarter Finals\":3, \"Semi Finals\":4, \"Play-off for third place\":5, \"Finals\":6}"
   ]
  },
  {
   "cell_type": "code",
   "execution_count": 10,
   "metadata": {},
   "outputs": [
    {
     "data": {
      "text/plain": [
       "array(['Group Phase', 'Round of 16', 'Quarter Finals', 'Semi Finals',\n",
       "       'Play-off for third place', 'Finals'], dtype=object)"
      ]
     },
     "execution_count": 10,
     "metadata": {},
     "output_type": "execute_result"
    }
   ],
   "source": [
    "rounds.unique()"
   ]
  },
  {
   "cell_type": "code",
   "execution_count": 11,
   "metadata": {},
   "outputs": [
    {
     "data": {
      "text/html": [
       "<div>\n",
       "<style scoped>\n",
       "    .dataframe tbody tr th:only-of-type {\n",
       "        vertical-align: middle;\n",
       "    }\n",
       "\n",
       "    .dataframe tbody tr th {\n",
       "        vertical-align: top;\n",
       "    }\n",
       "\n",
       "    .dataframe thead th {\n",
       "        text-align: right;\n",
       "    }\n",
       "</style>\n",
       "<table border=\"1\" class=\"dataframe\">\n",
       "  <thead>\n",
       "    <tr style=\"text-align: right;\">\n",
       "      <th></th>\n",
       "      <th>Team1</th>\n",
       "      <th>Team2</th>\n",
       "      <th>Rounds</th>\n",
       "      <th>Day</th>\n",
       "      <th>Month</th>\n",
       "      <th>Year</th>\n",
       "      <th>Score1</th>\n",
       "      <th>Score2</th>\n",
       "    </tr>\n",
       "  </thead>\n",
       "  <tbody>\n",
       "    <tr>\n",
       "      <th>251</th>\n",
       "      <td>18</td>\n",
       "      <td>46</td>\n",
       "      <td>Quarter Finals</td>\n",
       "      <td>1</td>\n",
       "      <td>7</td>\n",
       "      <td>2006</td>\n",
       "      <td>0</td>\n",
       "      <td>1</td>\n",
       "    </tr>\n",
       "    <tr>\n",
       "      <th>252</th>\n",
       "      <td>16</td>\n",
       "      <td>24</td>\n",
       "      <td>Semi Finals</td>\n",
       "      <td>4</td>\n",
       "      <td>7</td>\n",
       "      <td>2006</td>\n",
       "      <td>0</td>\n",
       "      <td>2</td>\n",
       "    </tr>\n",
       "    <tr>\n",
       "      <th>253</th>\n",
       "      <td>53</td>\n",
       "      <td>46</td>\n",
       "      <td>Semi Finals</td>\n",
       "      <td>5</td>\n",
       "      <td>7</td>\n",
       "      <td>2006</td>\n",
       "      <td>0</td>\n",
       "      <td>1</td>\n",
       "    </tr>\n",
       "    <tr>\n",
       "      <th>254</th>\n",
       "      <td>16</td>\n",
       "      <td>53</td>\n",
       "      <td>Play-off for third place</td>\n",
       "      <td>8</td>\n",
       "      <td>7</td>\n",
       "      <td>2006</td>\n",
       "      <td>3</td>\n",
       "      <td>1</td>\n",
       "    </tr>\n",
       "    <tr>\n",
       "      <th>255</th>\n",
       "      <td>24</td>\n",
       "      <td>46</td>\n",
       "      <td>Finals</td>\n",
       "      <td>9</td>\n",
       "      <td>7</td>\n",
       "      <td>2006</td>\n",
       "      <td>1</td>\n",
       "      <td>1</td>\n",
       "    </tr>\n",
       "  </tbody>\n",
       "</table>\n",
       "</div>"
      ],
      "text/plain": [
       "     Team1  Team2                    Rounds  Day  Month  Year  Score1  Score2\n",
       "251     18     46            Quarter Finals    1      7  2006       0       1\n",
       "252     16     24               Semi Finals    4      7  2006       0       2\n",
       "253     53     46               Semi Finals    5      7  2006       0       1\n",
       "254     16     53  Play-off for third place    8      7  2006       3       1\n",
       "255     24     46                    Finals    9      7  2006       1       1"
      ]
     },
     "execution_count": 11,
     "metadata": {},
     "output_type": "execute_result"
    }
   ],
   "source": [
    "df.tail()"
   ]
  },
  {
   "cell_type": "code",
   "execution_count": 12,
   "metadata": {},
   "outputs": [],
   "source": [
    "rounds_encoded = []\n",
    "\n",
    "for i in range(len(df)):\n",
    "    rounds_encoded.append(rounds_dict[list(df.Rounds)[i]])"
   ]
  },
  {
   "cell_type": "code",
   "execution_count": 13,
   "metadata": {},
   "outputs": [],
   "source": [
    "df[\"Rounds\"] = rounds_encoded"
   ]
  },
  {
   "cell_type": "code",
   "execution_count": 14,
   "metadata": {},
   "outputs": [],
   "source": [
    "winning_team = []\n",
    "\n",
    "for i in range(len(df)):\n",
    "    if df.Score1[i]>df.Score2[i]:\n",
    "        winning_team.append(1)\n",
    "    elif df.Score1[i]<df.Score2[i]:\n",
    "        winning_team.append(2)\n",
    "    else:\n",
    "        winning_team.append(0)"
   ]
  },
  {
   "cell_type": "code",
   "execution_count": 27,
   "metadata": {},
   "outputs": [],
   "source": [
    "df= df.drop(['Score1','Score2'], axis=1)"
   ]
  },
  {
   "cell_type": "code",
   "execution_count": 28,
   "metadata": {},
   "outputs": [],
   "source": [
    "X = df\n",
    "y = winning_team"
   ]
  },
  {
   "cell_type": "code",
   "execution_count": 29,
   "metadata": {},
   "outputs": [],
   "source": [
    "#y = np_utils.to_categorical(y)"
   ]
  },
  {
   "cell_type": "code",
   "execution_count": 30,
   "metadata": {},
   "outputs": [],
   "source": [
    "X_train, X_test, y_train, y_test = train_test_split(X, y, test_size=0.1, random_state=42)"
   ]
  },
  {
   "cell_type": "code",
   "execution_count": 31,
   "metadata": {},
   "outputs": [],
   "source": [
    "model = Sequential()\n",
    "model.add(Dense(12, input_dim=X.shape[1], activation='sigmoid'))\n",
    "model.add(Dense(8, activation='sigmoid'))\n",
    "#model.dropout()\n",
    "model.add(Dense(1, activation='sigmoid'))"
   ]
  },
  {
   "cell_type": "code",
   "execution_count": 32,
   "metadata": {},
   "outputs": [
    {
     "name": "stdout",
     "output_type": "stream",
     "text": [
      "_________________________________________________________________\n",
      "Layer (type)                 Output Shape              Param #   \n",
      "=================================================================\n",
      "dense_4 (Dense)              (None, 12)                84        \n",
      "_________________________________________________________________\n",
      "dense_5 (Dense)              (None, 8)                 104       \n",
      "_________________________________________________________________\n",
      "dense_6 (Dense)              (None, 1)                 9         \n",
      "=================================================================\n",
      "Total params: 197\n",
      "Trainable params: 197\n",
      "Non-trainable params: 0\n",
      "_________________________________________________________________\n"
     ]
    }
   ],
   "source": [
    "model.summary()"
   ]
  },
  {
   "cell_type": "code",
   "execution_count": 33,
   "metadata": {},
   "outputs": [],
   "source": [
    "model.compile(loss='binary_crossentropy', optimizer='adam', metrics=['accuracy']) #categorical crossentropy?"
   ]
  },
  {
   "cell_type": "code",
   "execution_count": 34,
   "metadata": {},
   "outputs": [
    {
     "name": "stdout",
     "output_type": "stream",
     "text": [
      "Train on 230 samples, validate on 26 samples\n",
      "Epoch 1/100\n",
      "230/230 [==============================] - 0s 2ms/step - loss: 0.5253 - acc: 0.4304 - val_loss: 0.5527 - val_acc: 0.3846\n",
      "Epoch 2/100\n",
      "230/230 [==============================] - 0s 86us/step - loss: 0.5008 - acc: 0.4304 - val_loss: 0.5350 - val_acc: 0.3846\n",
      "Epoch 3/100\n",
      "230/230 [==============================] - 0s 81us/step - loss: 0.4778 - acc: 0.4304 - val_loss: 0.5176 - val_acc: 0.3846\n",
      "Epoch 4/100\n",
      "230/230 [==============================] - 0s 90us/step - loss: 0.4547 - acc: 0.4304 - val_loss: 0.5008 - val_acc: 0.3846\n",
      "Epoch 5/100\n",
      "230/230 [==============================] - 0s 93us/step - loss: 0.4308 - acc: 0.4304 - val_loss: 0.4847 - val_acc: 0.3846\n",
      "Epoch 6/100\n",
      "230/230 [==============================] - 0s 65us/step - loss: 0.4103 - acc: 0.4304 - val_loss: 0.4687 - val_acc: 0.3846\n",
      "Epoch 7/100\n",
      "230/230 [==============================] - 0s 95us/step - loss: 0.3877 - acc: 0.4304 - val_loss: 0.4535 - val_acc: 0.3846\n",
      "Epoch 8/100\n",
      "230/230 [==============================] - 0s 66us/step - loss: 0.3667 - acc: 0.4304 - val_loss: 0.4385 - val_acc: 0.3846\n",
      "Epoch 9/100\n",
      "230/230 [==============================] - 0s 74us/step - loss: 0.3462 - acc: 0.4304 - val_loss: 0.4238 - val_acc: 0.3846\n",
      "Epoch 10/100\n",
      "230/230 [==============================] - 0s 101us/step - loss: 0.3261 - acc: 0.4304 - val_loss: 0.4097 - val_acc: 0.3846\n",
      "Epoch 11/100\n",
      "230/230 [==============================] - 0s 73us/step - loss: 0.3050 - acc: 0.4304 - val_loss: 0.3963 - val_acc: 0.3846\n",
      "Epoch 12/100\n",
      "230/230 [==============================] - 0s 89us/step - loss: 0.2863 - acc: 0.4304 - val_loss: 0.3831 - val_acc: 0.3846\n",
      "Epoch 13/100\n",
      "230/230 [==============================] - 0s 98us/step - loss: 0.2676 - acc: 0.4304 - val_loss: 0.3702 - val_acc: 0.3846\n",
      "Epoch 14/100\n",
      "230/230 [==============================] - 0s 111us/step - loss: 0.2499 - acc: 0.4304 - val_loss: 0.3576 - val_acc: 0.3846\n",
      "Epoch 15/100\n",
      "230/230 [==============================] - 0s 97us/step - loss: 0.2304 - acc: 0.4304 - val_loss: 0.3459 - val_acc: 0.3846\n",
      "Epoch 16/100\n",
      "230/230 [==============================] - 0s 96us/step - loss: 0.2125 - acc: 0.4304 - val_loss: 0.3345 - val_acc: 0.3846\n",
      "Epoch 17/100\n",
      "230/230 [==============================] - 0s 98us/step - loss: 0.1955 - acc: 0.4304 - val_loss: 0.3232 - val_acc: 0.3846\n",
      "Epoch 18/100\n",
      "230/230 [==============================] - 0s 85us/step - loss: 0.1801 - acc: 0.4304 - val_loss: 0.3120 - val_acc: 0.3846\n",
      "Epoch 19/100\n",
      "230/230 [==============================] - 0s 58us/step - loss: 0.1631 - acc: 0.4304 - val_loss: 0.3015 - val_acc: 0.3846\n",
      "Epoch 20/100\n",
      "230/230 [==============================] - 0s 71us/step - loss: 0.1461 - acc: 0.4304 - val_loss: 0.2915 - val_acc: 0.3846\n",
      "Epoch 21/100\n",
      "230/230 [==============================] - 0s 90us/step - loss: 0.1313 - acc: 0.4304 - val_loss: 0.2816 - val_acc: 0.3846\n",
      "Epoch 22/100\n",
      "230/230 [==============================] - 0s 112us/step - loss: 0.1155 - acc: 0.4304 - val_loss: 0.2724 - val_acc: 0.3846\n",
      "Epoch 23/100\n",
      "230/230 [==============================] - 0s 66us/step - loss: 0.1013 - acc: 0.4304 - val_loss: 0.2636 - val_acc: 0.3846\n",
      "Epoch 24/100\n",
      "230/230 [==============================] - 0s 69us/step - loss: 0.0871 - acc: 0.4304 - val_loss: 0.2550 - val_acc: 0.3846\n",
      "Epoch 25/100\n",
      "230/230 [==============================] - 0s 130us/step - loss: 0.0729 - acc: 0.4304 - val_loss: 0.2466 - val_acc: 0.3846\n",
      "Epoch 26/100\n",
      "230/230 [==============================] - 0s 110us/step - loss: 0.0591 - acc: 0.4304 - val_loss: 0.2385 - val_acc: 0.3846\n",
      "Epoch 27/100\n",
      "230/230 [==============================] - 0s 94us/step - loss: 0.0455 - acc: 0.4304 - val_loss: 0.2306 - val_acc: 0.3846\n",
      "Epoch 28/100\n",
      "230/230 [==============================] - 0s 118us/step - loss: 0.0323 - acc: 0.4304 - val_loss: 0.2229 - val_acc: 0.3846\n",
      "Epoch 29/100\n",
      "230/230 [==============================] - 0s 71us/step - loss: 0.0190 - acc: 0.4304 - val_loss: 0.2155 - val_acc: 0.3846\n",
      "Epoch 30/100\n",
      "230/230 [==============================] - 0s 77us/step - loss: 0.0071 - acc: 0.4304 - val_loss: 0.2081 - val_acc: 0.3846\n",
      "Epoch 31/100\n",
      "230/230 [==============================] - 0s 78us/step - loss: -0.0057 - acc: 0.4304 - val_loss: 0.2012 - val_acc: 0.3846\n",
      "Epoch 32/100\n",
      "230/230 [==============================] - 0s 86us/step - loss: -0.0182 - acc: 0.4304 - val_loss: 0.1946 - val_acc: 0.3846\n",
      "Epoch 33/100\n",
      "230/230 [==============================] - 0s 97us/step - loss: -0.0299 - acc: 0.4304 - val_loss: 0.1882 - val_acc: 0.3846\n",
      "Epoch 34/100\n",
      "230/230 [==============================] - 0s 103us/step - loss: -0.0424 - acc: 0.4304 - val_loss: 0.1822 - val_acc: 0.3846\n",
      "Epoch 35/100\n",
      "230/230 [==============================] - 0s 85us/step - loss: -0.0528 - acc: 0.4304 - val_loss: 0.1761 - val_acc: 0.3846\n",
      "Epoch 36/100\n",
      "230/230 [==============================] - 0s 115us/step - loss: -0.0644 - acc: 0.4304 - val_loss: 0.1703 - val_acc: 0.3846\n",
      "Epoch 37/100\n",
      "230/230 [==============================] - 0s 96us/step - loss: -0.0752 - acc: 0.4304 - val_loss: 0.1647 - val_acc: 0.3846\n",
      "Epoch 38/100\n",
      "230/230 [==============================] - 0s 113us/step - loss: -0.0855 - acc: 0.4304 - val_loss: 0.1591 - val_acc: 0.3846\n",
      "Epoch 39/100\n",
      "230/230 [==============================] - 0s 104us/step - loss: -0.0969 - acc: 0.4304 - val_loss: 0.1539 - val_acc: 0.3846\n",
      "Epoch 40/100\n",
      "230/230 [==============================] - 0s 68us/step - loss: -0.1075 - acc: 0.4304 - val_loss: 0.1488 - val_acc: 0.3846\n",
      "Epoch 41/100\n",
      "230/230 [==============================] - 0s 86us/step - loss: -0.1171 - acc: 0.4304 - val_loss: 0.1438 - val_acc: 0.3846\n",
      "Epoch 42/100\n",
      "230/230 [==============================] - 0s 76us/step - loss: -0.1275 - acc: 0.4304 - val_loss: 0.1391 - val_acc: 0.3846\n",
      "Epoch 43/100\n",
      "230/230 [==============================] - 0s 150us/step - loss: -0.1371 - acc: 0.4304 - val_loss: 0.1345 - val_acc: 0.3846\n",
      "Epoch 44/100\n",
      "230/230 [==============================] - 0s 90us/step - loss: -0.1469 - acc: 0.4304 - val_loss: 0.1301 - val_acc: 0.3846\n",
      "Epoch 45/100\n",
      "230/230 [==============================] - 0s 87us/step - loss: -0.1552 - acc: 0.4304 - val_loss: 0.1258 - val_acc: 0.3846\n",
      "Epoch 46/100\n",
      "230/230 [==============================] - 0s 115us/step - loss: -0.1651 - acc: 0.4304 - val_loss: 0.1219 - val_acc: 0.3846\n",
      "Epoch 47/100\n",
      "230/230 [==============================] - 0s 111us/step - loss: -0.1741 - acc: 0.4304 - val_loss: 0.1181 - val_acc: 0.3846\n",
      "Epoch 48/100\n",
      "230/230 [==============================] - 0s 119us/step - loss: -0.1830 - acc: 0.4304 - val_loss: 0.1145 - val_acc: 0.3846\n",
      "Epoch 49/100\n",
      "230/230 [==============================] - 0s 66us/step - loss: -0.1914 - acc: 0.4304 - val_loss: 0.1109 - val_acc: 0.3846\n",
      "Epoch 50/100\n",
      "230/230 [==============================] - 0s 76us/step - loss: -0.1992 - acc: 0.4304 - val_loss: 0.1073 - val_acc: 0.3846\n",
      "Epoch 51/100\n",
      "230/230 [==============================] - 0s 100us/step - loss: -0.2078 - acc: 0.4304 - val_loss: 0.1039 - val_acc: 0.3846\n",
      "Epoch 52/100\n",
      "230/230 [==============================] - 0s 100us/step - loss: -0.2159 - acc: 0.4304 - val_loss: 0.1006 - val_acc: 0.3846\n",
      "Epoch 53/100\n",
      "230/230 [==============================] - 0s 94us/step - loss: -0.2241 - acc: 0.4304 - val_loss: 0.0975 - val_acc: 0.3846\n",
      "Epoch 54/100\n",
      "230/230 [==============================] - 0s 92us/step - loss: -0.2318 - acc: 0.4304 - val_loss: 0.0945 - val_acc: 0.3846\n",
      "Epoch 55/100\n",
      "230/230 [==============================] - 0s 88us/step - loss: -0.2394 - acc: 0.4304 - val_loss: 0.0916 - val_acc: 0.3846\n",
      "Epoch 56/100\n",
      "230/230 [==============================] - 0s 79us/step - loss: -0.2468 - acc: 0.4304 - val_loss: 0.0888 - val_acc: 0.3846\n",
      "Epoch 57/100\n",
      "230/230 [==============================] - 0s 115us/step - loss: -0.2549 - acc: 0.4304 - val_loss: 0.0862 - val_acc: 0.3846\n",
      "Epoch 58/100\n",
      "230/230 [==============================] - 0s 111us/step - loss: -0.2616 - acc: 0.4304 - val_loss: 0.0835 - val_acc: 0.3846\n",
      "Epoch 59/100\n",
      "230/230 [==============================] - 0s 132us/step - loss: -0.2687 - acc: 0.4304 - val_loss: 0.0809 - val_acc: 0.3846\n",
      "Epoch 60/100\n",
      "230/230 [==============================] - 0s 73us/step - loss: -0.2756 - acc: 0.4304 - val_loss: 0.0783 - val_acc: 0.3846\n",
      "Epoch 61/100\n"
     ]
    },
    {
     "name": "stdout",
     "output_type": "stream",
     "text": [
      "230/230 [==============================] - 0s 106us/step - loss: -0.2835 - acc: 0.4304 - val_loss: 0.0760 - val_acc: 0.3846\n",
      "Epoch 62/100\n",
      "230/230 [==============================] - 0s 114us/step - loss: -0.2907 - acc: 0.4304 - val_loss: 0.0738 - val_acc: 0.3846\n",
      "Epoch 63/100\n",
      "230/230 [==============================] - 0s 76us/step - loss: -0.2973 - acc: 0.4304 - val_loss: 0.0715 - val_acc: 0.3846\n",
      "Epoch 64/100\n",
      "230/230 [==============================] - 0s 70us/step - loss: -0.3043 - acc: 0.4304 - val_loss: 0.0693 - val_acc: 0.3846\n",
      "Epoch 65/100\n",
      "230/230 [==============================] - 0s 104us/step - loss: -0.3102 - acc: 0.4304 - val_loss: 0.0671 - val_acc: 0.3846\n",
      "Epoch 66/100\n",
      "230/230 [==============================] - 0s 113us/step - loss: -0.3181 - acc: 0.4304 - val_loss: 0.0651 - val_acc: 0.3846\n",
      "Epoch 67/100\n",
      "230/230 [==============================] - 0s 110us/step - loss: -0.3239 - acc: 0.4304 - val_loss: 0.0631 - val_acc: 0.3846\n",
      "Epoch 68/100\n",
      "230/230 [==============================] - 0s 127us/step - loss: -0.3308 - acc: 0.4304 - val_loss: 0.0613 - val_acc: 0.3846\n",
      "Epoch 69/100\n",
      "230/230 [==============================] - 0s 72us/step - loss: -0.3370 - acc: 0.4304 - val_loss: 0.0595 - val_acc: 0.3846\n",
      "Epoch 70/100\n",
      "230/230 [==============================] - 0s 90us/step - loss: -0.3434 - acc: 0.4304 - val_loss: 0.0577 - val_acc: 0.3846\n",
      "Epoch 71/100\n",
      "230/230 [==============================] - 0s 148us/step - loss: -0.3494 - acc: 0.4304 - val_loss: 0.0560 - val_acc: 0.3846\n",
      "Epoch 72/100\n",
      "230/230 [==============================] - 0s 65us/step - loss: -0.3551 - acc: 0.4304 - val_loss: 0.0543 - val_acc: 0.3846\n",
      "Epoch 73/100\n",
      "230/230 [==============================] - 0s 76us/step - loss: -0.3621 - acc: 0.4304 - val_loss: 0.0527 - val_acc: 0.3846\n",
      "Epoch 74/100\n",
      "230/230 [==============================] - 0s 96us/step - loss: -0.3673 - acc: 0.4304 - val_loss: 0.0510 - val_acc: 0.3846\n",
      "Epoch 75/100\n",
      "230/230 [==============================] - 0s 70us/step - loss: -0.3744 - acc: 0.4304 - val_loss: 0.0496 - val_acc: 0.3846\n",
      "Epoch 76/100\n",
      "230/230 [==============================] - 0s 109us/step - loss: -0.3797 - acc: 0.4304 - val_loss: 0.0480 - val_acc: 0.3846\n",
      "Epoch 77/100\n",
      "230/230 [==============================] - 0s 74us/step - loss: -0.3860 - acc: 0.4304 - val_loss: 0.0465 - val_acc: 0.3846\n",
      "Epoch 78/100\n",
      "230/230 [==============================] - 0s 85us/step - loss: -0.3918 - acc: 0.4304 - val_loss: 0.0451 - val_acc: 0.3846\n",
      "Epoch 79/100\n",
      "230/230 [==============================] - 0s 56us/step - loss: -0.3984 - acc: 0.4304 - val_loss: 0.0438 - val_acc: 0.3846\n",
      "Epoch 80/100\n",
      "230/230 [==============================] - 0s 85us/step - loss: -0.4035 - acc: 0.4304 - val_loss: 0.0425 - val_acc: 0.3846\n",
      "Epoch 81/100\n",
      "230/230 [==============================] - 0s 72us/step - loss: -0.4097 - acc: 0.4304 - val_loss: 0.0413 - val_acc: 0.3846\n",
      "Epoch 82/100\n",
      "230/230 [==============================] - 0s 73us/step - loss: -0.4145 - acc: 0.4304 - val_loss: 0.0400 - val_acc: 0.3846\n",
      "Epoch 83/100\n",
      "230/230 [==============================] - 0s 88us/step - loss: -0.4210 - acc: 0.4304 - val_loss: 0.0389 - val_acc: 0.3846\n",
      "Epoch 84/100\n",
      "230/230 [==============================] - 0s 67us/step - loss: -0.4258 - acc: 0.4304 - val_loss: 0.0377 - val_acc: 0.3846\n",
      "Epoch 85/100\n",
      "230/230 [==============================] - 0s 82us/step - loss: -0.4316 - acc: 0.4304 - val_loss: 0.0367 - val_acc: 0.3846\n",
      "Epoch 86/100\n",
      "230/230 [==============================] - 0s 72us/step - loss: -0.4367 - acc: 0.4304 - val_loss: 0.0357 - val_acc: 0.3846\n",
      "Epoch 87/100\n",
      "230/230 [==============================] - 0s 113us/step - loss: -0.4418 - acc: 0.4304 - val_loss: 0.0347 - val_acc: 0.3846\n",
      "Epoch 88/100\n",
      "230/230 [==============================] - 0s 71us/step - loss: -0.4465 - acc: 0.4304 - val_loss: 0.0337 - val_acc: 0.3846\n",
      "Epoch 89/100\n",
      "230/230 [==============================] - 0s 94us/step - loss: -0.4522 - acc: 0.4304 - val_loss: 0.0328 - val_acc: 0.3846\n",
      "Epoch 90/100\n",
      "230/230 [==============================] - 0s 92us/step - loss: -0.4563 - acc: 0.4304 - val_loss: 0.0319 - val_acc: 0.3846\n",
      "Epoch 91/100\n",
      "230/230 [==============================] - 0s 86us/step - loss: -0.4622 - acc: 0.4304 - val_loss: 0.0310 - val_acc: 0.3846\n",
      "Epoch 92/100\n",
      "230/230 [==============================] - 0s 81us/step - loss: -0.4666 - acc: 0.4304 - val_loss: 0.0301 - val_acc: 0.3846\n",
      "Epoch 93/100\n",
      "230/230 [==============================] - 0s 87us/step - loss: -0.4717 - acc: 0.4304 - val_loss: 0.0293 - val_acc: 0.3846\n",
      "Epoch 94/100\n",
      "230/230 [==============================] - 0s 81us/step - loss: -0.4761 - acc: 0.4304 - val_loss: 0.0285 - val_acc: 0.3846\n",
      "Epoch 95/100\n",
      "230/230 [==============================] - 0s 86us/step - loss: -0.4822 - acc: 0.4304 - val_loss: 0.0277 - val_acc: 0.3846\n",
      "Epoch 96/100\n",
      "230/230 [==============================] - 0s 76us/step - loss: -0.4865 - acc: 0.4304 - val_loss: 0.0270 - val_acc: 0.3846\n",
      "Epoch 97/100\n",
      "230/230 [==============================] - 0s 87us/step - loss: -0.4909 - acc: 0.4304 - val_loss: 0.0262 - val_acc: 0.3846\n",
      "Epoch 98/100\n",
      "230/230 [==============================] - 0s 91us/step - loss: -0.4962 - acc: 0.4304 - val_loss: 0.0254 - val_acc: 0.3846\n",
      "Epoch 99/100\n",
      "230/230 [==============================] - 0s 92us/step - loss: -0.5006 - acc: 0.4304 - val_loss: 0.0247 - val_acc: 0.3846\n",
      "Epoch 100/100\n",
      "230/230 [==============================] - 0s 90us/step - loss: -0.5059 - acc: 0.4304 - val_loss: 0.0241 - val_acc: 0.3846\n"
     ]
    },
    {
     "data": {
      "text/plain": [
       "<keras.callbacks.History at 0x7f6cb12f34a8>"
      ]
     },
     "execution_count": 34,
     "metadata": {},
     "output_type": "execute_result"
    }
   ],
   "source": [
    "model.fit(X_train, y_train, validation_data=(X_test,y_test), shuffle=True, epochs=100, batch_size=64)"
   ]
  },
  {
   "cell_type": "code",
   "execution_count": 35,
   "metadata": {},
   "outputs": [
    {
     "name": "stdout",
     "output_type": "stream",
     "text": [
      "26/26 [==============================] - 0s 105us/step\n",
      "\n",
      "acc: 38.46%\n"
     ]
    }
   ],
   "source": [
    "scores = model.evaluate(X_test, y_test)\n",
    "print(\"\\n%s: %.2f%%\" % (model.metrics_names[1], scores[1]*100))"
   ]
  },
  {
   "cell_type": "code",
   "execution_count": 21,
   "metadata": {},
   "outputs": [
    {
     "data": {
      "text/plain": [
       "['loss', 'acc']"
      ]
     },
     "execution_count": 21,
     "metadata": {},
     "output_type": "execute_result"
    }
   ],
   "source": [
    "model.metrics_names"
   ]
  },
  {
   "cell_type": "code",
   "execution_count": 36,
   "metadata": {},
   "outputs": [
    {
     "data": {
      "text/plain": [
       "0.42307692307692307"
      ]
     },
     "execution_count": 36,
     "metadata": {},
     "output_type": "execute_result"
    }
   ],
   "source": [
    "from sklearn.tree import DecisionTreeClassifier\n",
    "from sklearn.metrics import accuracy_score\n",
    "\n",
    "model= DecisionTreeClassifier()\n",
    "model.fit(X_train,y_train)\n",
    "\n",
    "y_pred = model.predict(X_test)\n",
    "\n",
    "accuracy_score(y_test, y_pred)"
   ]
  },
  {
   "cell_type": "code",
   "execution_count": 38,
   "metadata": {},
   "outputs": [
    {
     "data": {
      "text/html": [
       "<div>\n",
       "<style scoped>\n",
       "    .dataframe tbody tr th:only-of-type {\n",
       "        vertical-align: middle;\n",
       "    }\n",
       "\n",
       "    .dataframe tbody tr th {\n",
       "        vertical-align: top;\n",
       "    }\n",
       "\n",
       "    .dataframe thead th {\n",
       "        text-align: right;\n",
       "    }\n",
       "</style>\n",
       "<table border=\"1\" class=\"dataframe\">\n",
       "  <thead>\n",
       "    <tr style=\"text-align: right;\">\n",
       "      <th></th>\n",
       "      <th>Team1</th>\n",
       "      <th>Team2</th>\n",
       "      <th>Rounds</th>\n",
       "      <th>Day</th>\n",
       "      <th>Month</th>\n",
       "      <th>Year</th>\n",
       "    </tr>\n",
       "  </thead>\n",
       "  <tbody>\n",
       "    <tr>\n",
       "      <th>253</th>\n",
       "      <td>53</td>\n",
       "      <td>46</td>\n",
       "      <td>4</td>\n",
       "      <td>5</td>\n",
       "      <td>7</td>\n",
       "      <td>2006</td>\n",
       "    </tr>\n",
       "    <tr>\n",
       "      <th>208</th>\n",
       "      <td>16</td>\n",
       "      <td>45</td>\n",
       "      <td>1</td>\n",
       "      <td>14</td>\n",
       "      <td>6</td>\n",
       "      <td>2006</td>\n",
       "    </tr>\n",
       "    <tr>\n",
       "      <th>10</th>\n",
       "      <td>18</td>\n",
       "      <td>34</td>\n",
       "      <td>1</td>\n",
       "      <td>17</td>\n",
       "      <td>6</td>\n",
       "      <td>2018</td>\n",
       "    </tr>\n",
       "    <tr>\n",
       "      <th>164</th>\n",
       "      <td>33</td>\n",
       "      <td>42</td>\n",
       "      <td>1</td>\n",
       "      <td>23</td>\n",
       "      <td>6</td>\n",
       "      <td>2010</td>\n",
       "    </tr>\n",
       "    <tr>\n",
       "      <th>184</th>\n",
       "      <td>52</td>\n",
       "      <td>18</td>\n",
       "      <td>3</td>\n",
       "      <td>2</td>\n",
       "      <td>7</td>\n",
       "      <td>2010</td>\n",
       "    </tr>\n",
       "  </tbody>\n",
       "</table>\n",
       "</div>"
      ],
      "text/plain": [
       "     Team1  Team2  Rounds  Day  Month  Year\n",
       "253     53     46       4    5      7  2006\n",
       "208     16     45       1   14      6  2006\n",
       "10      18     34       1   17      6  2018\n",
       "164     33     42       1   23      6  2010\n",
       "184     52     18       3    2      7  2010"
      ]
     },
     "execution_count": 38,
     "metadata": {},
     "output_type": "execute_result"
    }
   ],
   "source": [
    "X_train.head()"
   ]
  },
  {
   "cell_type": "code",
   "execution_count": 37,
   "metadata": {},
   "outputs": [
    {
     "data": {
      "text/plain": [
       "array([ 0.30815826,  0.34357521,  0.06192305,  0.19919789,  0.00225663,\n",
       "        0.08488896])"
      ]
     },
     "execution_count": 37,
     "metadata": {},
     "output_type": "execute_result"
    }
   ],
   "source": [
    "model.feature_importances_"
   ]
  }
 ],
 "metadata": {
  "kernelspec": {
   "display_name": "Python 3",
   "language": "python",
   "name": "python3"
  },
  "language_info": {
   "codemirror_mode": {
    "name": "ipython",
    "version": 3
   },
   "file_extension": ".py",
   "mimetype": "text/x-python",
   "name": "python",
   "nbconvert_exporter": "python",
   "pygments_lexer": "ipython3",
   "version": "3.6.4"
  }
 },
 "nbformat": 4,
 "nbformat_minor": 2
}
